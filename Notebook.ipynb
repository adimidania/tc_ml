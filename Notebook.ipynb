{
 "cells": [
  {
   "cell_type": "markdown",
   "id": "719930d0",
   "metadata": {},
   "source": [
    "# TrainingCamp - Cars Prediction"
   ]
  },
  {
   "cell_type": "markdown",
   "id": "ab8688a2",
   "metadata": {},
   "source": [
    "# Data Preprocessing"
   ]
  },
  {
   "cell_type": "code",
   "execution_count": 2,
   "id": "a52dd9fd",
   "metadata": {},
   "outputs": [],
   "source": [
    "import pandas as pd\n",
    "import matplotlib.pyplot as plt\n",
    "import seaborn as sns\n",
    "import numpy as np"
   ]
  },
  {
   "cell_type": "code",
   "execution_count": 3,
   "id": "481007c8",
   "metadata": {},
   "outputs": [],
   "source": [
    "df = pd.read_csv('Cars.csv')"
   ]
  },
  {
   "cell_type": "code",
   "execution_count": 4,
   "id": "34b981eb",
   "metadata": {},
   "outputs": [
    {
     "data": {
      "text/html": [
       "<div>\n",
       "<style scoped>\n",
       "    .dataframe tbody tr th:only-of-type {\n",
       "        vertical-align: middle;\n",
       "    }\n",
       "\n",
       "    .dataframe tbody tr th {\n",
       "        vertical-align: top;\n",
       "    }\n",
       "\n",
       "    .dataframe thead th {\n",
       "        text-align: right;\n",
       "    }\n",
       "</style>\n",
       "<table border=\"1\" class=\"dataframe\">\n",
       "  <thead>\n",
       "    <tr style=\"text-align: right;\">\n",
       "      <th></th>\n",
       "      <th>name</th>\n",
       "      <th>year</th>\n",
       "      <th>selling_price</th>\n",
       "      <th>km_driven</th>\n",
       "      <th>fuel</th>\n",
       "      <th>seller_type</th>\n",
       "      <th>transmission</th>\n",
       "      <th>owner</th>\n",
       "      <th>mileage</th>\n",
       "      <th>engine</th>\n",
       "      <th>max_power</th>\n",
       "      <th>torque</th>\n",
       "      <th>seats</th>\n",
       "    </tr>\n",
       "  </thead>\n",
       "  <tbody>\n",
       "    <tr>\n",
       "      <th>911</th>\n",
       "      <td>Tata Zest Quadrajet 1.3 75PS XE</td>\n",
       "      <td>2017</td>\n",
       "      <td>280000</td>\n",
       "      <td>80000</td>\n",
       "      <td>Diesel</td>\n",
       "      <td>Individual</td>\n",
       "      <td>Manual</td>\n",
       "      <td>First Owner</td>\n",
       "      <td>22.95 kmpl</td>\n",
       "      <td>1248 CC</td>\n",
       "      <td>74 bhp</td>\n",
       "      <td>190Nm@ 1750-3000rpm</td>\n",
       "      <td>5.0</td>\n",
       "    </tr>\n",
       "    <tr>\n",
       "      <th>2608</th>\n",
       "      <td>Hyundai Verna 1.6 CRDi EX MT</td>\n",
       "      <td>2013</td>\n",
       "      <td>445000</td>\n",
       "      <td>87185</td>\n",
       "      <td>Diesel</td>\n",
       "      <td>Individual</td>\n",
       "      <td>Manual</td>\n",
       "      <td>Second Owner</td>\n",
       "      <td>22.32 kmpl</td>\n",
       "      <td>1582 CC</td>\n",
       "      <td>126.3 bhp</td>\n",
       "      <td>259.9Nm@ 1900-2750rpm</td>\n",
       "      <td>5.0</td>\n",
       "    </tr>\n",
       "    <tr>\n",
       "      <th>6929</th>\n",
       "      <td>Tata Indigo CS LS (TDI) BS III</td>\n",
       "      <td>2009</td>\n",
       "      <td>160000</td>\n",
       "      <td>70000</td>\n",
       "      <td>Diesel</td>\n",
       "      <td>Individual</td>\n",
       "      <td>Manual</td>\n",
       "      <td>First Owner</td>\n",
       "      <td>19.09 kmpl</td>\n",
       "      <td>1396 CC</td>\n",
       "      <td>69 bhp</td>\n",
       "      <td>135Nm@ 2500rpm</td>\n",
       "      <td>5.0</td>\n",
       "    </tr>\n",
       "    <tr>\n",
       "      <th>5463</th>\n",
       "      <td>Volkswagen Vento Konekt Diesel Highline</td>\n",
       "      <td>2014</td>\n",
       "      <td>575000</td>\n",
       "      <td>90000</td>\n",
       "      <td>Diesel</td>\n",
       "      <td>Individual</td>\n",
       "      <td>Manual</td>\n",
       "      <td>First Owner</td>\n",
       "      <td>20.54 kmpl</td>\n",
       "      <td>1598 CC</td>\n",
       "      <td>103.6 bhp</td>\n",
       "      <td>250Nm@ 1500-2500rpm</td>\n",
       "      <td>5.0</td>\n",
       "    </tr>\n",
       "    <tr>\n",
       "      <th>6513</th>\n",
       "      <td>Mahindra KUV 100 D75 K8</td>\n",
       "      <td>2020</td>\n",
       "      <td>550000</td>\n",
       "      <td>60000</td>\n",
       "      <td>Diesel</td>\n",
       "      <td>Individual</td>\n",
       "      <td>Manual</td>\n",
       "      <td>First Owner</td>\n",
       "      <td>25.32 kmpl</td>\n",
       "      <td>1198 CC</td>\n",
       "      <td>77 bhp</td>\n",
       "      <td>190Nm@ 1750-2250rpm</td>\n",
       "      <td>6.0</td>\n",
       "    </tr>\n",
       "    <tr>\n",
       "      <th>2556</th>\n",
       "      <td>Mahindra XUV500 W4</td>\n",
       "      <td>2014</td>\n",
       "      <td>649000</td>\n",
       "      <td>117000</td>\n",
       "      <td>Diesel</td>\n",
       "      <td>Individual</td>\n",
       "      <td>Manual</td>\n",
       "      <td>Third Owner</td>\n",
       "      <td>15.1 kmpl</td>\n",
       "      <td>2179 CC</td>\n",
       "      <td>140 bhp</td>\n",
       "      <td>330Nm@ 1600-2800rpm</td>\n",
       "      <td>7.0</td>\n",
       "    </tr>\n",
       "    <tr>\n",
       "      <th>2361</th>\n",
       "      <td>Renault KWID RXT</td>\n",
       "      <td>2015</td>\n",
       "      <td>300000</td>\n",
       "      <td>10000</td>\n",
       "      <td>Petrol</td>\n",
       "      <td>Individual</td>\n",
       "      <td>Manual</td>\n",
       "      <td>First Owner</td>\n",
       "      <td>25.17 kmpl</td>\n",
       "      <td>799 CC</td>\n",
       "      <td>53.3 bhp</td>\n",
       "      <td>72Nm@ 4386rpm</td>\n",
       "      <td>5.0</td>\n",
       "    </tr>\n",
       "    <tr>\n",
       "      <th>6519</th>\n",
       "      <td>Maruti Alto LX</td>\n",
       "      <td>2004</td>\n",
       "      <td>90000</td>\n",
       "      <td>60000</td>\n",
       "      <td>Petrol</td>\n",
       "      <td>Individual</td>\n",
       "      <td>Manual</td>\n",
       "      <td>First Owner</td>\n",
       "      <td>19.7 kmpl</td>\n",
       "      <td>796 CC</td>\n",
       "      <td>46.3 bhp</td>\n",
       "      <td>62Nm@ 3000rpm</td>\n",
       "      <td>5.0</td>\n",
       "    </tr>\n",
       "  </tbody>\n",
       "</table>\n",
       "</div>"
      ],
      "text/plain": [
       "                                         name  year  selling_price  km_driven  \\\n",
       "911           Tata Zest Quadrajet 1.3 75PS XE  2017         280000      80000   \n",
       "2608             Hyundai Verna 1.6 CRDi EX MT  2013         445000      87185   \n",
       "6929           Tata Indigo CS LS (TDI) BS III  2009         160000      70000   \n",
       "5463  Volkswagen Vento Konekt Diesel Highline  2014         575000      90000   \n",
       "6513                  Mahindra KUV 100 D75 K8  2020         550000      60000   \n",
       "2556                       Mahindra XUV500 W4  2014         649000     117000   \n",
       "2361                         Renault KWID RXT  2015         300000      10000   \n",
       "6519                           Maruti Alto LX  2004          90000      60000   \n",
       "\n",
       "        fuel seller_type transmission         owner     mileage   engine  \\\n",
       "911   Diesel  Individual       Manual   First Owner  22.95 kmpl  1248 CC   \n",
       "2608  Diesel  Individual       Manual  Second Owner  22.32 kmpl  1582 CC   \n",
       "6929  Diesel  Individual       Manual   First Owner  19.09 kmpl  1396 CC   \n",
       "5463  Diesel  Individual       Manual   First Owner  20.54 kmpl  1598 CC   \n",
       "6513  Diesel  Individual       Manual   First Owner  25.32 kmpl  1198 CC   \n",
       "2556  Diesel  Individual       Manual   Third Owner   15.1 kmpl  2179 CC   \n",
       "2361  Petrol  Individual       Manual   First Owner  25.17 kmpl   799 CC   \n",
       "6519  Petrol  Individual       Manual   First Owner   19.7 kmpl   796 CC   \n",
       "\n",
       "      max_power                 torque  seats  \n",
       "911      74 bhp    190Nm@ 1750-3000rpm    5.0  \n",
       "2608  126.3 bhp  259.9Nm@ 1900-2750rpm    5.0  \n",
       "6929     69 bhp         135Nm@ 2500rpm    5.0  \n",
       "5463  103.6 bhp    250Nm@ 1500-2500rpm    5.0  \n",
       "6513     77 bhp    190Nm@ 1750-2250rpm    6.0  \n",
       "2556    140 bhp    330Nm@ 1600-2800rpm    7.0  \n",
       "2361   53.3 bhp          72Nm@ 4386rpm    5.0  \n",
       "6519   46.3 bhp          62Nm@ 3000rpm    5.0  "
      ]
     },
     "execution_count": 4,
     "metadata": {},
     "output_type": "execute_result"
    }
   ],
   "source": [
    "df.sample(8)"
   ]
  },
  {
   "cell_type": "code",
   "execution_count": 5,
   "id": "65a39d09",
   "metadata": {},
   "outputs": [
    {
     "data": {
      "text/plain": [
       "(8128, 13)"
      ]
     },
     "execution_count": 5,
     "metadata": {},
     "output_type": "execute_result"
    }
   ],
   "source": [
    "df.shape"
   ]
  },
  {
   "cell_type": "code",
   "execution_count": 6,
   "id": "804b4169",
   "metadata": {},
   "outputs": [
    {
     "data": {
      "text/html": [
       "<div>\n",
       "<style scoped>\n",
       "    .dataframe tbody tr th:only-of-type {\n",
       "        vertical-align: middle;\n",
       "    }\n",
       "\n",
       "    .dataframe tbody tr th {\n",
       "        vertical-align: top;\n",
       "    }\n",
       "\n",
       "    .dataframe thead th {\n",
       "        text-align: right;\n",
       "    }\n",
       "</style>\n",
       "<table border=\"1\" class=\"dataframe\">\n",
       "  <thead>\n",
       "    <tr style=\"text-align: right;\">\n",
       "      <th></th>\n",
       "      <th>year</th>\n",
       "      <th>selling_price</th>\n",
       "      <th>km_driven</th>\n",
       "      <th>seats</th>\n",
       "    </tr>\n",
       "  </thead>\n",
       "  <tbody>\n",
       "    <tr>\n",
       "      <th>count</th>\n",
       "      <td>8128.000000</td>\n",
       "      <td>8.128000e+03</td>\n",
       "      <td>8.128000e+03</td>\n",
       "      <td>7907.000000</td>\n",
       "    </tr>\n",
       "    <tr>\n",
       "      <th>mean</th>\n",
       "      <td>2013.804011</td>\n",
       "      <td>6.382718e+05</td>\n",
       "      <td>6.981951e+04</td>\n",
       "      <td>5.416719</td>\n",
       "    </tr>\n",
       "    <tr>\n",
       "      <th>std</th>\n",
       "      <td>4.044249</td>\n",
       "      <td>8.062534e+05</td>\n",
       "      <td>5.655055e+04</td>\n",
       "      <td>0.959588</td>\n",
       "    </tr>\n",
       "    <tr>\n",
       "      <th>min</th>\n",
       "      <td>1983.000000</td>\n",
       "      <td>2.999900e+04</td>\n",
       "      <td>1.000000e+00</td>\n",
       "      <td>2.000000</td>\n",
       "    </tr>\n",
       "    <tr>\n",
       "      <th>25%</th>\n",
       "      <td>2011.000000</td>\n",
       "      <td>2.549990e+05</td>\n",
       "      <td>3.500000e+04</td>\n",
       "      <td>5.000000</td>\n",
       "    </tr>\n",
       "    <tr>\n",
       "      <th>50%</th>\n",
       "      <td>2015.000000</td>\n",
       "      <td>4.500000e+05</td>\n",
       "      <td>6.000000e+04</td>\n",
       "      <td>5.000000</td>\n",
       "    </tr>\n",
       "    <tr>\n",
       "      <th>75%</th>\n",
       "      <td>2017.000000</td>\n",
       "      <td>6.750000e+05</td>\n",
       "      <td>9.800000e+04</td>\n",
       "      <td>5.000000</td>\n",
       "    </tr>\n",
       "    <tr>\n",
       "      <th>max</th>\n",
       "      <td>2020.000000</td>\n",
       "      <td>1.000000e+07</td>\n",
       "      <td>2.360457e+06</td>\n",
       "      <td>14.000000</td>\n",
       "    </tr>\n",
       "  </tbody>\n",
       "</table>\n",
       "</div>"
      ],
      "text/plain": [
       "              year  selling_price     km_driven        seats\n",
       "count  8128.000000   8.128000e+03  8.128000e+03  7907.000000\n",
       "mean   2013.804011   6.382718e+05  6.981951e+04     5.416719\n",
       "std       4.044249   8.062534e+05  5.655055e+04     0.959588\n",
       "min    1983.000000   2.999900e+04  1.000000e+00     2.000000\n",
       "25%    2011.000000   2.549990e+05  3.500000e+04     5.000000\n",
       "50%    2015.000000   4.500000e+05  6.000000e+04     5.000000\n",
       "75%    2017.000000   6.750000e+05  9.800000e+04     5.000000\n",
       "max    2020.000000   1.000000e+07  2.360457e+06    14.000000"
      ]
     },
     "execution_count": 6,
     "metadata": {},
     "output_type": "execute_result"
    }
   ],
   "source": [
    "df.describe()"
   ]
  },
  {
   "cell_type": "code",
   "execution_count": 7,
   "id": "1b8dc991",
   "metadata": {},
   "outputs": [
    {
     "name": "stdout",
     "output_type": "stream",
     "text": [
      "<class 'pandas.core.frame.DataFrame'>\n",
      "RangeIndex: 8128 entries, 0 to 8127\n",
      "Data columns (total 13 columns):\n",
      " #   Column         Non-Null Count  Dtype  \n",
      "---  ------         --------------  -----  \n",
      " 0   name           8128 non-null   object \n",
      " 1   year           8128 non-null   int64  \n",
      " 2   selling_price  8128 non-null   int64  \n",
      " 3   km_driven      8128 non-null   int64  \n",
      " 4   fuel           8128 non-null   object \n",
      " 5   seller_type    8128 non-null   object \n",
      " 6   transmission   8128 non-null   object \n",
      " 7   owner          8128 non-null   object \n",
      " 8   mileage        7907 non-null   object \n",
      " 9   engine         7907 non-null   object \n",
      " 10  max_power      7913 non-null   object \n",
      " 11  torque         7906 non-null   object \n",
      " 12  seats          7907 non-null   float64\n",
      "dtypes: float64(1), int64(3), object(9)\n",
      "memory usage: 825.6+ KB\n"
     ]
    }
   ],
   "source": [
    "df.info()"
   ]
  },
  {
   "cell_type": "code",
   "execution_count": 8,
   "id": "07eefba0",
   "metadata": {},
   "outputs": [
    {
     "data": {
      "text/plain": [
       "name               0\n",
       "year               0\n",
       "selling_price      0\n",
       "km_driven          0\n",
       "fuel               0\n",
       "seller_type        0\n",
       "transmission       0\n",
       "owner              0\n",
       "mileage          221\n",
       "engine           221\n",
       "max_power        215\n",
       "torque           222\n",
       "seats            221\n",
       "dtype: int64"
      ]
     },
     "execution_count": 8,
     "metadata": {},
     "output_type": "execute_result"
    }
   ],
   "source": [
    "df.isnull().sum()"
   ]
  },
  {
   "cell_type": "code",
   "execution_count": 9,
   "id": "1f2a1f9f",
   "metadata": {},
   "outputs": [
    {
     "data": {
      "text/html": [
       "<div>\n",
       "<style scoped>\n",
       "    .dataframe tbody tr th:only-of-type {\n",
       "        vertical-align: middle;\n",
       "    }\n",
       "\n",
       "    .dataframe tbody tr th {\n",
       "        vertical-align: top;\n",
       "    }\n",
       "\n",
       "    .dataframe thead th {\n",
       "        text-align: right;\n",
       "    }\n",
       "</style>\n",
       "<table border=\"1\" class=\"dataframe\">\n",
       "  <thead>\n",
       "    <tr style=\"text-align: right;\">\n",
       "      <th></th>\n",
       "      <th>count</th>\n",
       "      <th>unique</th>\n",
       "      <th>top</th>\n",
       "      <th>freq</th>\n",
       "    </tr>\n",
       "  </thead>\n",
       "  <tbody>\n",
       "    <tr>\n",
       "      <th>name</th>\n",
       "      <td>8128</td>\n",
       "      <td>2058</td>\n",
       "      <td>Maruti Swift Dzire VDI</td>\n",
       "      <td>129</td>\n",
       "    </tr>\n",
       "    <tr>\n",
       "      <th>fuel</th>\n",
       "      <td>8128</td>\n",
       "      <td>4</td>\n",
       "      <td>Diesel</td>\n",
       "      <td>4402</td>\n",
       "    </tr>\n",
       "    <tr>\n",
       "      <th>seller_type</th>\n",
       "      <td>8128</td>\n",
       "      <td>3</td>\n",
       "      <td>Individual</td>\n",
       "      <td>6766</td>\n",
       "    </tr>\n",
       "    <tr>\n",
       "      <th>transmission</th>\n",
       "      <td>8128</td>\n",
       "      <td>2</td>\n",
       "      <td>Manual</td>\n",
       "      <td>7078</td>\n",
       "    </tr>\n",
       "    <tr>\n",
       "      <th>owner</th>\n",
       "      <td>8128</td>\n",
       "      <td>5</td>\n",
       "      <td>First Owner</td>\n",
       "      <td>5289</td>\n",
       "    </tr>\n",
       "    <tr>\n",
       "      <th>mileage</th>\n",
       "      <td>7907</td>\n",
       "      <td>393</td>\n",
       "      <td>18.9 kmpl</td>\n",
       "      <td>225</td>\n",
       "    </tr>\n",
       "    <tr>\n",
       "      <th>engine</th>\n",
       "      <td>7907</td>\n",
       "      <td>121</td>\n",
       "      <td>1248 CC</td>\n",
       "      <td>1017</td>\n",
       "    </tr>\n",
       "    <tr>\n",
       "      <th>max_power</th>\n",
       "      <td>7913</td>\n",
       "      <td>322</td>\n",
       "      <td>74 bhp</td>\n",
       "      <td>377</td>\n",
       "    </tr>\n",
       "    <tr>\n",
       "      <th>torque</th>\n",
       "      <td>7906</td>\n",
       "      <td>441</td>\n",
       "      <td>190Nm@ 2000rpm</td>\n",
       "      <td>530</td>\n",
       "    </tr>\n",
       "  </tbody>\n",
       "</table>\n",
       "</div>"
      ],
      "text/plain": [
       "             count unique                     top  freq\n",
       "name          8128   2058  Maruti Swift Dzire VDI   129\n",
       "fuel          8128      4                  Diesel  4402\n",
       "seller_type   8128      3              Individual  6766\n",
       "transmission  8128      2                  Manual  7078\n",
       "owner         8128      5             First Owner  5289\n",
       "mileage       7907    393               18.9 kmpl   225\n",
       "engine        7907    121                 1248 CC  1017\n",
       "max_power     7913    322                  74 bhp   377\n",
       "torque        7906    441          190Nm@ 2000rpm   530"
      ]
     },
     "execution_count": 9,
     "metadata": {},
     "output_type": "execute_result"
    }
   ],
   "source": [
    "df.describe(include = \"object\").T"
   ]
  },
  {
   "cell_type": "code",
   "execution_count": 10,
   "id": "589f9614",
   "metadata": {},
   "outputs": [
    {
     "data": {
      "text/html": [
       "<div>\n",
       "<style scoped>\n",
       "    .dataframe tbody tr th:only-of-type {\n",
       "        vertical-align: middle;\n",
       "    }\n",
       "\n",
       "    .dataframe tbody tr th {\n",
       "        vertical-align: top;\n",
       "    }\n",
       "\n",
       "    .dataframe thead th {\n",
       "        text-align: right;\n",
       "    }\n",
       "</style>\n",
       "<table border=\"1\" class=\"dataframe\">\n",
       "  <thead>\n",
       "    <tr style=\"text-align: right;\">\n",
       "      <th></th>\n",
       "      <th>year</th>\n",
       "      <th>selling_price</th>\n",
       "      <th>km_driven</th>\n",
       "      <th>seats</th>\n",
       "    </tr>\n",
       "  </thead>\n",
       "  <tbody>\n",
       "    <tr>\n",
       "      <th>year</th>\n",
       "      <td>1.000000</td>\n",
       "      <td>0.414092</td>\n",
       "      <td>-0.418006</td>\n",
       "      <td>-0.009144</td>\n",
       "    </tr>\n",
       "    <tr>\n",
       "      <th>selling_price</th>\n",
       "      <td>0.414092</td>\n",
       "      <td>1.000000</td>\n",
       "      <td>-0.225534</td>\n",
       "      <td>0.041358</td>\n",
       "    </tr>\n",
       "    <tr>\n",
       "      <th>km_driven</th>\n",
       "      <td>-0.418006</td>\n",
       "      <td>-0.225534</td>\n",
       "      <td>1.000000</td>\n",
       "      <td>0.227336</td>\n",
       "    </tr>\n",
       "    <tr>\n",
       "      <th>seats</th>\n",
       "      <td>-0.009144</td>\n",
       "      <td>0.041358</td>\n",
       "      <td>0.227336</td>\n",
       "      <td>1.000000</td>\n",
       "    </tr>\n",
       "  </tbody>\n",
       "</table>\n",
       "</div>"
      ],
      "text/plain": [
       "                   year  selling_price  km_driven     seats\n",
       "year           1.000000       0.414092  -0.418006 -0.009144\n",
       "selling_price  0.414092       1.000000  -0.225534  0.041358\n",
       "km_driven     -0.418006      -0.225534   1.000000  0.227336\n",
       "seats         -0.009144       0.041358   0.227336  1.000000"
      ]
     },
     "execution_count": 10,
     "metadata": {},
     "output_type": "execute_result"
    }
   ],
   "source": [
    "df.corr()"
   ]
  },
  {
   "cell_type": "markdown",
   "id": "25dfab1e",
   "metadata": {},
   "source": [
    "#### fuel"
   ]
  },
  {
   "cell_type": "code",
   "execution_count": 11,
   "id": "dee60946",
   "metadata": {},
   "outputs": [
    {
     "data": {
      "text/plain": [
       "0       Diesel\n",
       "1       Diesel\n",
       "2       Petrol\n",
       "3       Diesel\n",
       "4       Petrol\n",
       "         ...  \n",
       "8123    Petrol\n",
       "8124    Diesel\n",
       "8125    Diesel\n",
       "8126    Diesel\n",
       "8127    Diesel\n",
       "Name: fuel, Length: 8128, dtype: object"
      ]
     },
     "execution_count": 11,
     "metadata": {},
     "output_type": "execute_result"
    }
   ],
   "source": [
    "df.fuel"
   ]
  },
  {
   "cell_type": "code",
   "execution_count": 12,
   "id": "4af9a31b",
   "metadata": {},
   "outputs": [
    {
     "data": {
      "image/png": "[encoded data removed]",
      "text/plain": [
       "<Figure size 432x288 with 1 Axes>"
      ]
     },
     "metadata": {
      "needs_background": "light"
     },
     "output_type": "display_data"
    }
   ],
   "source": [
    "sns.barplot(x = 'fuel', y = 'selling_price', data=df);"
   ]
  },
  {
   "cell_type": "markdown",
   "id": "47fc1bff",
   "metadata": {},
   "source": [
    "*We observe that the mean selling price of Diesel is somewhat higher than other types of fuel*"
   ]
  },
  {
   "cell_type": "code",
   "execution_count": 13,
   "id": "39a0324e",
   "metadata": {},
   "outputs": [],
   "source": [
    "z = lambda x: 0 if x == 'Diesel' else(1 if x == 'Petrol' else (2 if x == 'CNG' else 3))\n",
    "df.fuel = df.fuel.apply(z)"
   ]
  },
  {
   "cell_type": "code",
   "execution_count": 14,
   "id": "aed09825",
   "metadata": {},
   "outputs": [
    {
     "data": {
      "text/plain": [
       "0    4402\n",
       "1    3631\n",
       "2      57\n",
       "3      38\n",
       "Name: fuel, dtype: int64"
      ]
     },
     "execution_count": 14,
     "metadata": {},
     "output_type": "execute_result"
    }
   ],
   "source": [
    "df.fuel.value_counts()"
   ]
  },
  {
   "cell_type": "markdown",
   "id": "e775b5d7",
   "metadata": {},
   "source": [
    "#### seller type"
   ]
  },
  {
   "cell_type": "code",
   "execution_count": 15,
   "id": "32f700ff",
   "metadata": {},
   "outputs": [
    {
     "data": {
      "image/png": "[encoded data removed]",
      "text/plain": [
       "<Figure size 432x288 with 1 Axes>"
      ]
     },
     "metadata": {
      "needs_background": "light"
     },
     "output_type": "display_data"
    }
   ],
   "source": [
    "sns.barplot(x = 'seller_type', y = 'selling_price', data=df);"
   ]
  },
  {
   "cell_type": "markdown",
   "id": "fcde7b88",
   "metadata": {},
   "source": [
    "*We observe that the mean selling price of Dealers is somewhat higher than other types of fuel*"
   ]
  },
  {
   "cell_type": "code",
   "execution_count": 16,
   "id": "005d36f9",
   "metadata": {},
   "outputs": [],
   "source": [
    "z = lambda x: 0 if x == 'Individual' else(1 if x == 'Dealer' else 2)\n",
    "df.seller_type = df.seller_type.apply(z)"
   ]
  },
  {
   "cell_type": "code",
   "execution_count": 17,
   "id": "c110f914",
   "metadata": {},
   "outputs": [
    {
     "data": {
      "text/plain": [
       "0    6766\n",
       "1    1126\n",
       "2     236\n",
       "Name: seller_type, dtype: int64"
      ]
     },
     "execution_count": 17,
     "metadata": {},
     "output_type": "execute_result"
    }
   ],
   "source": [
    "df.seller_type.value_counts()"
   ]
  },
  {
   "cell_type": "markdown",
   "id": "8122a75c",
   "metadata": {},
   "source": [
    "#### transmission"
   ]
  },
  {
   "cell_type": "code",
   "execution_count": 18,
   "id": "f8b492bc",
   "metadata": {},
   "outputs": [
    {
     "data": {
      "image/png": "[encoded data removed]",
      "text/plain": [
       "<Figure size 432x288 with 1 Axes>"
      ]
     },
     "metadata": {
      "needs_background": "light"
     },
     "output_type": "display_data"
    }
   ],
   "source": [
    "sns.barplot(x = 'transmission', y = 'selling_price', data=df);"
   ]
  },
  {
   "cell_type": "markdown",
   "id": "cc88d3fe",
   "metadata": {},
   "source": [
    "*We observe that the mean selling price of Automatic is somewhat higher than other types of fuel*"
   ]
  },
  {
   "cell_type": "code",
   "execution_count": 19,
   "id": "02514ead",
   "metadata": {},
   "outputs": [],
   "source": [
    "z = lambda x: 0 if x == 'Manual' else 1\n",
    "df.transmission = df.transmission.apply(z)"
   ]
  },
  {
   "cell_type": "code",
   "execution_count": 20,
   "id": "04fc3f8e",
   "metadata": {},
   "outputs": [
    {
     "data": {
      "text/plain": [
       "0    7078\n",
       "1    1050\n",
       "Name: transmission, dtype: int64"
      ]
     },
     "execution_count": 20,
     "metadata": {},
     "output_type": "execute_result"
    }
   ],
   "source": [
    "df.transmission.value_counts()"
   ]
  },
  {
   "cell_type": "markdown",
   "id": "db70bb65",
   "metadata": {},
   "source": [
    "#### owner"
   ]
  },
  {
   "cell_type": "code",
   "execution_count": 21,
   "id": "b8954e57",
   "metadata": {},
   "outputs": [
    {
     "data": {
      "text/plain": [
       "First Owner             5289\n",
       "Second Owner            2105\n",
       "Third Owner              555\n",
       "Fourth & Above Owner     174\n",
       "Test Drive Car             5\n",
       "Name: owner, dtype: int64"
      ]
     },
     "execution_count": 21,
     "metadata": {},
     "output_type": "execute_result"
    }
   ],
   "source": [
    "df.owner.value_counts()"
   ]
  },
  {
   "cell_type": "code",
   "execution_count": 22,
   "id": "bc5c0c8c",
   "metadata": {},
   "outputs": [],
   "source": [
    "z = lambda x: 0 if x == 'Test Drive Car' else(1 if x == 'First Owner' else (2 if x == 'Second Owner' else (3 if x == 'Third Owner' else 4)))\n",
    "df.owner = df.owner.apply(z)"
   ]
  },
  {
   "cell_type": "code",
   "execution_count": 23,
   "id": "70b07d2f",
   "metadata": {},
   "outputs": [
    {
     "data": {
      "text/plain": [
       "1    5289\n",
       "2    2105\n",
       "3     555\n",
       "4     174\n",
       "0       5\n",
       "Name: owner, dtype: int64"
      ]
     },
     "execution_count": 23,
     "metadata": {},
     "output_type": "execute_result"
    }
   ],
   "source": [
    "df.owner.value_counts()"
   ]
  },
  {
   "cell_type": "markdown",
   "id": "49117f81",
   "metadata": {},
   "source": [
    "#### mileage"
   ]
  },
  {
   "cell_type": "code",
   "execution_count": 24,
   "id": "73a24aa5",
   "metadata": {},
   "outputs": [],
   "source": [
    "df['mileage'] = (df['mileage'].replace({'km/kg':'*1.34680','kmpl':'*1'}, regex=True)\n",
    "                                            .dropna()\n",
    "                                            .apply(pd.eval))"
   ]
  },
  {
   "cell_type": "code",
   "execution_count": 25,
   "id": "979aefba",
   "metadata": {},
   "outputs": [
    {
     "data": {
      "text/plain": [
       "<seaborn.axisgrid.FacetGrid at 0x294a56aad00>"
      ]
     },
     "execution_count": 25,
     "metadata": {},
     "output_type": "execute_result"
    },
    {
     "data": {
      "image/png": "[encoded data removed]",
      "text/plain": [
       "<Figure size 360x360 with 1 Axes>"
      ]
     },
     "metadata": {
      "needs_background": "light"
     },
     "output_type": "display_data"
    }
   ],
   "source": [
    "sns.displot(df, x=\"mileage\", kind=\"kde\")"
   ]
  },
  {
   "cell_type": "markdown",
   "id": "4a3b5a07",
   "metadata": {},
   "source": [
    "#### engine"
   ]
  },
  {
   "cell_type": "code",
   "execution_count": 26,
   "id": "dc4c6e12",
   "metadata": {},
   "outputs": [
    {
     "data": {
      "text/plain": [
       "0       1248\n",
       "1       1498\n",
       "2       1497\n",
       "3       1396\n",
       "4       1298\n",
       "        ... \n",
       "8123    1197\n",
       "8124    1493\n",
       "8125    1248\n",
       "8126    1396\n",
       "8127    1396\n",
       "Name: engine, Length: 8128, dtype: object"
      ]
     },
     "execution_count": 26,
     "metadata": {},
     "output_type": "execute_result"
    }
   ],
   "source": [
    "df.engine = df.engine.str.replace(' CC', \"\")\n",
    "df.engine"
   ]
  },
  {
   "cell_type": "code",
   "execution_count": 27,
   "id": "adc4050b",
   "metadata": {},
   "outputs": [],
   "source": [
    "df['engine'] = pd.to_numeric(df['engine'], errors='coerce')"
   ]
  },
  {
   "cell_type": "markdown",
   "id": "7411a5af",
   "metadata": {},
   "source": [
    "#### max power"
   ]
  },
  {
   "cell_type": "code",
   "execution_count": 28,
   "id": "a50d3afe",
   "metadata": {},
   "outputs": [
    {
     "data": {
      "text/plain": [
       "0           74\n",
       "1       103.52\n",
       "2           78\n",
       "3           90\n",
       "4         88.2\n",
       "         ...  \n",
       "8123     82.85\n",
       "8124       110\n",
       "8125      73.9\n",
       "8126        70\n",
       "8127        70\n",
       "Name: max_power, Length: 8128, dtype: object"
      ]
     },
     "execution_count": 28,
     "metadata": {},
     "output_type": "execute_result"
    }
   ],
   "source": [
    "df.max_power = df.max_power.str.replace(' bhp', \"\")\n",
    "df.max_power"
   ]
  },
  {
   "cell_type": "code",
   "execution_count": 29,
   "id": "d37c793e",
   "metadata": {},
   "outputs": [],
   "source": [
    "df['max_power'] = pd.to_numeric(df['max_power'], errors='coerce')"
   ]
  },
  {
   "cell_type": "code",
   "execution_count": 30,
   "id": "5f03b73b",
   "metadata": {},
   "outputs": [
    {
     "data": {
      "text/plain": [
       "0        74.00\n",
       "1       103.52\n",
       "2        78.00\n",
       "3        90.00\n",
       "4        88.20\n",
       "         ...  \n",
       "8123     82.85\n",
       "8124    110.00\n",
       "8125     73.90\n",
       "8126     70.00\n",
       "8127     70.00\n",
       "Name: max_power, Length: 8128, dtype: float64"
      ]
     },
     "execution_count": 30,
     "metadata": {},
     "output_type": "execute_result"
    }
   ],
   "source": [
    "df.max_power"
   ]
  },
  {
   "cell_type": "code",
   "execution_count": 31,
   "id": "0e8109e5",
   "metadata": {},
   "outputs": [
    {
     "data": {
      "text/plain": [
       "<seaborn.axisgrid.FacetGrid at 0x294a579e670>"
      ]
     },
     "execution_count": 31,
     "metadata": {},
     "output_type": "execute_result"
    },
    {
     "data": {
      "image/png": "[encoded data removed]",
      "text/plain": [
       "<Figure size 360x360 with 1 Axes>"
      ]
     },
     "metadata": {
      "needs_background": "light"
     },
     "output_type": "display_data"
    }
   ],
   "source": [
    "sns.displot(df, x=\"max_power\", kind=\"kde\")"
   ]
  },
  {
   "cell_type": "markdown",
   "id": "032f6c8a",
   "metadata": {},
   "source": [
    "#### seats"
   ]
  },
  {
   "cell_type": "code",
   "execution_count": 32,
   "id": "acedd7a0",
   "metadata": {},
   "outputs": [
    {
     "data": {
      "text/plain": [
       "<seaborn.axisgrid.FacetGrid at 0x294a5721640>"
      ]
     },
     "execution_count": 32,
     "metadata": {},
     "output_type": "execute_result"
    },
    {
     "data": {
      "image/png": "[encoded data removed]",
      "text/plain": [
       "<Figure size 360x360 with 1 Axes>"
      ]
     },
     "metadata": {
      "needs_background": "light"
     },
     "output_type": "display_data"
    }
   ],
   "source": [
    "sns.displot(df, x=\"seats\")"
   ]
  },
  {
   "cell_type": "code",
   "execution_count": 33,
   "id": "4e0949dc",
   "metadata": {},
   "outputs": [
    {
     "data": {
      "text/plain": [
       "5.0     6254\n",
       "7.0     1120\n",
       "8.0      236\n",
       "4.0      133\n",
       "9.0       80\n",
       "6.0       62\n",
       "10.0      19\n",
       "2.0        2\n",
       "14.0       1\n",
       "Name: seats, dtype: int64"
      ]
     },
     "execution_count": 33,
     "metadata": {},
     "output_type": "execute_result"
    }
   ],
   "source": [
    "df.seats.value_counts()"
   ]
  },
  {
   "cell_type": "code",
   "execution_count": 34,
   "id": "fceb30f2",
   "metadata": {},
   "outputs": [
    {
     "data": {
      "text/plain": [
       "0       5\n",
       "1       5\n",
       "2       5\n",
       "3       5\n",
       "4       5\n",
       "       ..\n",
       "8123    5\n",
       "8124    5\n",
       "8125    5\n",
       "8126    5\n",
       "8127    5\n",
       "Name: seats, Length: 8128, dtype: int32"
      ]
     },
     "execution_count": 34,
     "metadata": {},
     "output_type": "execute_result"
    }
   ],
   "source": [
    "df.seats.fillna(0.0).astype(int)"
   ]
  },
  {
   "cell_type": "markdown",
   "id": "2a6b237f",
   "metadata": {},
   "source": [
    "#### torque"
   ]
  },
  {
   "cell_type": "code",
   "execution_count": 35,
   "id": "08d90e99",
   "metadata": {},
   "outputs": [
    {
     "name": "stderr",
     "output_type": "stream",
     "text": [
      "C:\\Users\\AT\\AppData\\Local\\Temp/ipykernel_8812/6085689.py:1: FutureWarning: The default value of regex will change from True to False in a future version.\n",
      "  df['torque'] = df['torque'].str.replace(r\"\\(.*\\)\",\"\")\n"
     ]
    }
   ],
   "source": [
    "df['torque'] = df['torque'].str.replace(r\"\\(.*\\)\",\"\") \n",
    "df['torque'] = df['torque'].str.replace('@', ' ')"
   ]
  },
  {
   "cell_type": "code",
   "execution_count": 36,
   "id": "657cc36a",
   "metadata": {},
   "outputs": [],
   "source": [
    "df['torque'] = df['torque'].str.split(' ').str[0]"
   ]
  },
  {
   "cell_type": "code",
   "execution_count": 37,
   "id": "36d6079a",
   "metadata": {},
   "outputs": [
    {
     "data": {
      "text/plain": [
       "200Nm      693\n",
       "190Nm      604\n",
       "90Nm       406\n",
       "113Nm      259\n",
       "114Nm      246\n",
       "          ... \n",
       "340Nm        1\n",
       "23.6         1\n",
       "35.7         1\n",
       "6            1\n",
       "436.4Nm      1\n",
       "Name: torque, Length: 278, dtype: int64"
      ]
     },
     "execution_count": 37,
     "metadata": {},
     "output_type": "execute_result"
    }
   ],
   "source": [
    "df['torque'].value_counts()"
   ]
  },
  {
   "cell_type": "code",
   "execution_count": 38,
   "id": "ba175a77",
   "metadata": {},
   "outputs": [],
   "source": [
    "df['torque'] = (df['torque'].replace({'Nm':'/9.80665', 'NM':'/9.80665','kgm':'*1', 'nm':'/9.80665'}, regex=True)\n",
    "                                            .dropna()\n",
    "                                            .apply(pd.eval))"
   ]
  },
  {
   "cell_type": "markdown",
   "id": "d160e32a",
   "metadata": {},
   "source": [
    "#### marque"
   ]
  },
  {
   "cell_type": "code",
   "execution_count": 39,
   "id": "01c8be3c",
   "metadata": {},
   "outputs": [],
   "source": [
    "from sklearn import preprocessing"
   ]
  },
  {
   "cell_type": "code",
   "execution_count": 40,
   "id": "94830414",
   "metadata": {},
   "outputs": [],
   "source": [
    "le = preprocessing.LabelEncoder()"
   ]
  },
  {
   "cell_type": "code",
   "execution_count": 41,
   "id": "778fba17",
   "metadata": {},
   "outputs": [],
   "source": [
    "df[\"marque\"] = df.name.str.split(' ').str[0]"
   ]
  },
  {
   "cell_type": "code",
   "execution_count": 42,
   "id": "36ab94a8",
   "metadata": {},
   "outputs": [
    {
     "data": {
      "text/plain": [
       "0        Maruti\n",
       "1         Skoda\n",
       "2         Honda\n",
       "3       Hyundai\n",
       "4        Maruti\n",
       "         ...   \n",
       "8123    Hyundai\n",
       "8124    Hyundai\n",
       "8125     Maruti\n",
       "8126       Tata\n",
       "8127       Tata\n",
       "Name: marque, Length: 8128, dtype: object"
      ]
     },
     "execution_count": 42,
     "metadata": {},
     "output_type": "execute_result"
    }
   ],
   "source": [
    "df.marque"
   ]
  },
  {
   "cell_type": "code",
   "execution_count": 43,
   "id": "c3dc09b9",
   "metadata": {},
   "outputs": [],
   "source": [
    "le = preprocessing.LabelEncoder()"
   ]
  },
  {
   "cell_type": "code",
   "execution_count": 44,
   "id": "62b97cf0",
   "metadata": {},
   "outputs": [
    {
     "data": {
      "text/plain": [
       "LabelEncoder()"
      ]
     },
     "execution_count": 44,
     "metadata": {},
     "output_type": "execute_result"
    }
   ],
   "source": [
    "le.fit(df.marque)"
   ]
  },
  {
   "cell_type": "code",
   "execution_count": 45,
   "id": "c1ade6d3",
   "metadata": {},
   "outputs": [],
   "source": [
    "df[\"marque\"] = le.transform(df.marque)"
   ]
  },
  {
   "cell_type": "code",
   "execution_count": 46,
   "id": "c0f153ae",
   "metadata": {},
   "outputs": [
    {
     "data": {
      "text/html": [
       "<div>\n",
       "<style scoped>\n",
       "    .dataframe tbody tr th:only-of-type {\n",
       "        vertical-align: middle;\n",
       "    }\n",
       "\n",
       "    .dataframe tbody tr th {\n",
       "        vertical-align: top;\n",
       "    }\n",
       "\n",
       "    .dataframe thead th {\n",
       "        text-align: right;\n",
       "    }\n",
       "</style>\n",
       "<table border=\"1\" class=\"dataframe\">\n",
       "  <thead>\n",
       "    <tr style=\"text-align: right;\">\n",
       "      <th></th>\n",
       "      <th>name</th>\n",
       "      <th>year</th>\n",
       "      <th>selling_price</th>\n",
       "      <th>km_driven</th>\n",
       "      <th>fuel</th>\n",
       "      <th>seller_type</th>\n",
       "      <th>transmission</th>\n",
       "      <th>owner</th>\n",
       "      <th>mileage</th>\n",
       "      <th>engine</th>\n",
       "      <th>max_power</th>\n",
       "      <th>torque</th>\n",
       "      <th>seats</th>\n",
       "      <th>marque</th>\n",
       "    </tr>\n",
       "  </thead>\n",
       "  <tbody>\n",
       "    <tr>\n",
       "      <th>0</th>\n",
       "      <td>Maruti Swift Dzire VDI</td>\n",
       "      <td>2014</td>\n",
       "      <td>450000</td>\n",
       "      <td>145500</td>\n",
       "      <td>0</td>\n",
       "      <td>0</td>\n",
       "      <td>0</td>\n",
       "      <td>1</td>\n",
       "      <td>23.40000</td>\n",
       "      <td>1248.0</td>\n",
       "      <td>74.00</td>\n",
       "      <td>19.374608</td>\n",
       "      <td>5.0</td>\n",
       "      <td>20</td>\n",
       "    </tr>\n",
       "    <tr>\n",
       "      <th>1</th>\n",
       "      <td>Skoda Rapid 1.5 TDI Ambition</td>\n",
       "      <td>2014</td>\n",
       "      <td>370000</td>\n",
       "      <td>120000</td>\n",
       "      <td>0</td>\n",
       "      <td>0</td>\n",
       "      <td>0</td>\n",
       "      <td>2</td>\n",
       "      <td>21.14000</td>\n",
       "      <td>1498.0</td>\n",
       "      <td>103.52</td>\n",
       "      <td>25.492905</td>\n",
       "      <td>5.0</td>\n",
       "      <td>27</td>\n",
       "    </tr>\n",
       "    <tr>\n",
       "      <th>2</th>\n",
       "      <td>Honda City 2017-2020 EXi</td>\n",
       "      <td>2006</td>\n",
       "      <td>158000</td>\n",
       "      <td>140000</td>\n",
       "      <td>1</td>\n",
       "      <td>0</td>\n",
       "      <td>0</td>\n",
       "      <td>3</td>\n",
       "      <td>17.70000</td>\n",
       "      <td>1497.0</td>\n",
       "      <td>78.00</td>\n",
       "      <td>12.700000</td>\n",
       "      <td>5.0</td>\n",
       "      <td>10</td>\n",
       "    </tr>\n",
       "    <tr>\n",
       "      <th>3</th>\n",
       "      <td>Hyundai i20 Sportz Diesel</td>\n",
       "      <td>2010</td>\n",
       "      <td>225000</td>\n",
       "      <td>127000</td>\n",
       "      <td>0</td>\n",
       "      <td>0</td>\n",
       "      <td>0</td>\n",
       "      <td>1</td>\n",
       "      <td>23.00000</td>\n",
       "      <td>1396.0</td>\n",
       "      <td>90.00</td>\n",
       "      <td>22.400000</td>\n",
       "      <td>5.0</td>\n",
       "      <td>11</td>\n",
       "    </tr>\n",
       "    <tr>\n",
       "      <th>4</th>\n",
       "      <td>Maruti Swift VXI BSIII</td>\n",
       "      <td>2007</td>\n",
       "      <td>130000</td>\n",
       "      <td>120000</td>\n",
       "      <td>1</td>\n",
       "      <td>0</td>\n",
       "      <td>0</td>\n",
       "      <td>1</td>\n",
       "      <td>16.10000</td>\n",
       "      <td>1298.0</td>\n",
       "      <td>88.20</td>\n",
       "      <td>11.500000</td>\n",
       "      <td>5.0</td>\n",
       "      <td>20</td>\n",
       "    </tr>\n",
       "    <tr>\n",
       "      <th>5</th>\n",
       "      <td>Hyundai Xcent 1.2 VTVT E Plus</td>\n",
       "      <td>2017</td>\n",
       "      <td>440000</td>\n",
       "      <td>45000</td>\n",
       "      <td>1</td>\n",
       "      <td>0</td>\n",
       "      <td>0</td>\n",
       "      <td>1</td>\n",
       "      <td>20.14000</td>\n",
       "      <td>1197.0</td>\n",
       "      <td>81.86</td>\n",
       "      <td>11.599272</td>\n",
       "      <td>5.0</td>\n",
       "      <td>11</td>\n",
       "    </tr>\n",
       "    <tr>\n",
       "      <th>6</th>\n",
       "      <td>Maruti Wagon R LXI DUO BSIII</td>\n",
       "      <td>2007</td>\n",
       "      <td>96000</td>\n",
       "      <td>175000</td>\n",
       "      <td>3</td>\n",
       "      <td>0</td>\n",
       "      <td>0</td>\n",
       "      <td>1</td>\n",
       "      <td>23.29964</td>\n",
       "      <td>1061.0</td>\n",
       "      <td>57.50</td>\n",
       "      <td>7.800000</td>\n",
       "      <td>5.0</td>\n",
       "      <td>20</td>\n",
       "    </tr>\n",
       "    <tr>\n",
       "      <th>7</th>\n",
       "      <td>Maruti 800 DX BSII</td>\n",
       "      <td>2001</td>\n",
       "      <td>45000</td>\n",
       "      <td>5000</td>\n",
       "      <td>1</td>\n",
       "      <td>0</td>\n",
       "      <td>0</td>\n",
       "      <td>2</td>\n",
       "      <td>16.10000</td>\n",
       "      <td>796.0</td>\n",
       "      <td>37.00</td>\n",
       "      <td>6.016326</td>\n",
       "      <td>4.0</td>\n",
       "      <td>20</td>\n",
       "    </tr>\n",
       "    <tr>\n",
       "      <th>8</th>\n",
       "      <td>Toyota Etios VXD</td>\n",
       "      <td>2011</td>\n",
       "      <td>350000</td>\n",
       "      <td>90000</td>\n",
       "      <td>0</td>\n",
       "      <td>0</td>\n",
       "      <td>0</td>\n",
       "      <td>1</td>\n",
       "      <td>23.59000</td>\n",
       "      <td>1364.0</td>\n",
       "      <td>67.10</td>\n",
       "      <td>17.335176</td>\n",
       "      <td>5.0</td>\n",
       "      <td>29</td>\n",
       "    </tr>\n",
       "    <tr>\n",
       "      <th>9</th>\n",
       "      <td>Ford Figo Diesel Celebration Edition</td>\n",
       "      <td>2013</td>\n",
       "      <td>200000</td>\n",
       "      <td>169000</td>\n",
       "      <td>0</td>\n",
       "      <td>0</td>\n",
       "      <td>0</td>\n",
       "      <td>1</td>\n",
       "      <td>20.00000</td>\n",
       "      <td>1399.0</td>\n",
       "      <td>68.10</td>\n",
       "      <td>16.315459</td>\n",
       "      <td>5.0</td>\n",
       "      <td>9</td>\n",
       "    </tr>\n",
       "  </tbody>\n",
       "</table>\n",
       "</div>"
      ],
      "text/plain": [
       "                                   name  year  selling_price  km_driven  fuel  \\\n",
       "0                Maruti Swift Dzire VDI  2014         450000     145500     0   \n",
       "1          Skoda Rapid 1.5 TDI Ambition  2014         370000     120000     0   \n",
       "2              Honda City 2017-2020 EXi  2006         158000     140000     1   \n",
       "3             Hyundai i20 Sportz Diesel  2010         225000     127000     0   \n",
       "4                Maruti Swift VXI BSIII  2007         130000     120000     1   \n",
       "5         Hyundai Xcent 1.2 VTVT E Plus  2017         440000      45000     1   \n",
       "6          Maruti Wagon R LXI DUO BSIII  2007          96000     175000     3   \n",
       "7                    Maruti 800 DX BSII  2001          45000       5000     1   \n",
       "8                      Toyota Etios VXD  2011         350000      90000     0   \n",
       "9  Ford Figo Diesel Celebration Edition  2013         200000     169000     0   \n",
       "\n",
       "   seller_type  transmission  owner   mileage  engine  max_power     torque  \\\n",
       "0            0             0      1  23.40000  1248.0      74.00  19.374608   \n",
       "1            0             0      2  21.14000  1498.0     103.52  25.492905   \n",
       "2            0             0      3  17.70000  1497.0      78.00  12.700000   \n",
       "3            0             0      1  23.00000  1396.0      90.00  22.400000   \n",
       "4            0             0      1  16.10000  1298.0      88.20  11.500000   \n",
       "5            0             0      1  20.14000  1197.0      81.86  11.599272   \n",
       "6            0             0      1  23.29964  1061.0      57.50   7.800000   \n",
       "7            0             0      2  16.10000   796.0      37.00   6.016326   \n",
       "8            0             0      1  23.59000  1364.0      67.10  17.335176   \n",
       "9            0             0      1  20.00000  1399.0      68.10  16.315459   \n",
       "\n",
       "   seats  marque  \n",
       "0    5.0      20  \n",
       "1    5.0      27  \n",
       "2    5.0      10  \n",
       "3    5.0      11  \n",
       "4    5.0      20  \n",
       "5    5.0      11  \n",
       "6    5.0      20  \n",
       "7    4.0      20  \n",
       "8    5.0      29  \n",
       "9    5.0       9  "
      ]
     },
     "execution_count": 46,
     "metadata": {},
     "output_type": "execute_result"
    }
   ],
   "source": [
    "df.head(10)"
   ]
  },
  {
   "cell_type": "markdown",
   "id": "e6b589ee",
   "metadata": {},
   "source": [
    "### Missing values"
   ]
  },
  {
   "cell_type": "code",
   "execution_count": 47,
   "id": "ad8155aa",
   "metadata": {},
   "outputs": [
    {
     "data": {
      "text/plain": [
       "name               0\n",
       "year               0\n",
       "selling_price      0\n",
       "km_driven          0\n",
       "fuel               0\n",
       "seller_type        0\n",
       "transmission       0\n",
       "owner              0\n",
       "mileage          221\n",
       "engine           221\n",
       "max_power        216\n",
       "torque           222\n",
       "seats            221\n",
       "marque             0\n",
       "dtype: int64"
      ]
     },
     "execution_count": 47,
     "metadata": {},
     "output_type": "execute_result"
    }
   ],
   "source": [
    "df.isnull().sum()"
   ]
  },
  {
   "cell_type": "code",
   "execution_count": 48,
   "id": "2b005bb7",
   "metadata": {},
   "outputs": [],
   "source": [
    "m = df.mileage.mean()\n",
    "df.mileage.fillna(m, inplace=True)"
   ]
  },
  {
   "cell_type": "code",
   "execution_count": 49,
   "id": "16f37d79",
   "metadata": {},
   "outputs": [],
   "source": [
    "m = df.torque.mean()\n",
    "df.torque.fillna(m, inplace=True)"
   ]
  },
  {
   "cell_type": "code",
   "execution_count": 50,
   "id": "c0e52042",
   "metadata": {},
   "outputs": [],
   "source": [
    "m = df.max_power.mean()\n",
    "df.max_power.fillna(m, inplace=True)"
   ]
  },
  {
   "cell_type": "code",
   "execution_count": 51,
   "id": "97e98cb8",
   "metadata": {},
   "outputs": [
    {
     "data": {
      "text/plain": [
       "0       1248\n",
       "1       1498\n",
       "2       1497\n",
       "3       1396\n",
       "4       1298\n",
       "        ... \n",
       "8123    1197\n",
       "8124    1493\n",
       "8125    1248\n",
       "8126    1396\n",
       "8127    1396\n",
       "Name: engine, Length: 8128, dtype: int32"
      ]
     },
     "execution_count": 51,
     "metadata": {},
     "output_type": "execute_result"
    }
   ],
   "source": [
    "m = df.engine.mode()[0]\n",
    "df.engine.fillna(m, inplace=True)\n",
    "df.engine.astype(int)"
   ]
  },
  {
   "cell_type": "code",
   "execution_count": 52,
   "id": "6b1a3634",
   "metadata": {},
   "outputs": [
    {
     "data": {
      "text/plain": [
       "0       1248\n",
       "1       1498\n",
       "2       1497\n",
       "3       1396\n",
       "4       1298\n",
       "        ... \n",
       "8123    1197\n",
       "8124    1493\n",
       "8125    1248\n",
       "8126    1396\n",
       "8127    1396\n",
       "Name: engine, Length: 8128, dtype: int32"
      ]
     },
     "execution_count": 52,
     "metadata": {},
     "output_type": "execute_result"
    }
   ],
   "source": [
    "m = df.seats.mode()[0]\n",
    "df.seats.fillna(m, inplace=True)\n",
    "df.engine.astype(int)"
   ]
  },
  {
   "cell_type": "code",
   "execution_count": 53,
   "id": "a02d0eab",
   "metadata": {},
   "outputs": [
    {
     "data": {
      "text/plain": [
       "name             0\n",
       "year             0\n",
       "selling_price    0\n",
       "km_driven        0\n",
       "fuel             0\n",
       "seller_type      0\n",
       "transmission     0\n",
       "owner            0\n",
       "mileage          0\n",
       "engine           0\n",
       "max_power        0\n",
       "torque           0\n",
       "seats            0\n",
       "marque           0\n",
       "dtype: int64"
      ]
     },
     "execution_count": 53,
     "metadata": {},
     "output_type": "execute_result"
    }
   ],
   "source": [
    "df.isnull().sum()"
   ]
  },
  {
   "cell_type": "code",
   "execution_count": 54,
   "id": "ac45ecfd",
   "metadata": {},
   "outputs": [
    {
     "data": {
      "text/html": [
       "<div>\n",
       "<style scoped>\n",
       "    .dataframe tbody tr th:only-of-type {\n",
       "        vertical-align: middle;\n",
       "    }\n",
       "\n",
       "    .dataframe tbody tr th {\n",
       "        vertical-align: top;\n",
       "    }\n",
       "\n",
       "    .dataframe thead th {\n",
       "        text-align: right;\n",
       "    }\n",
       "</style>\n",
       "<table border=\"1\" class=\"dataframe\">\n",
       "  <thead>\n",
       "    <tr style=\"text-align: right;\">\n",
       "      <th></th>\n",
       "      <th>year</th>\n",
       "      <th>selling_price</th>\n",
       "      <th>km_driven</th>\n",
       "      <th>fuel</th>\n",
       "      <th>seller_type</th>\n",
       "      <th>transmission</th>\n",
       "      <th>owner</th>\n",
       "      <th>mileage</th>\n",
       "      <th>engine</th>\n",
       "      <th>max_power</th>\n",
       "      <th>torque</th>\n",
       "      <th>seats</th>\n",
       "      <th>marque</th>\n",
       "    </tr>\n",
       "  </thead>\n",
       "  <tbody>\n",
       "    <tr>\n",
       "      <th>year</th>\n",
       "      <td>1.000000</td>\n",
       "      <td>0.414092</td>\n",
       "      <td>-0.418006</td>\n",
       "      <td>-0.063381</td>\n",
       "      <td>0.234741</td>\n",
       "      <td>0.244707</td>\n",
       "      <td>-0.513541</td>\n",
       "      <td>0.297289</td>\n",
       "      <td>0.035851</td>\n",
       "      <td>0.213282</td>\n",
       "      <td>-0.059899</td>\n",
       "      <td>0.010222</td>\n",
       "      <td>-0.031469</td>\n",
       "    </tr>\n",
       "    <tr>\n",
       "      <th>selling_price</th>\n",
       "      <td>0.414092</td>\n",
       "      <td>1.000000</td>\n",
       "      <td>-0.225534</td>\n",
       "      <td>-0.205453</td>\n",
       "      <td>0.323047</td>\n",
       "      <td>0.588845</td>\n",
       "      <td>-0.243316</td>\n",
       "      <td>-0.129438</td>\n",
       "      <td>0.458345</td>\n",
       "      <td>0.744958</td>\n",
       "      <td>0.191744</td>\n",
       "      <td>0.047135</td>\n",
       "      <td>-0.090271</td>\n",
       "    </tr>\n",
       "    <tr>\n",
       "      <th>km_driven</th>\n",
       "      <td>-0.418006</td>\n",
       "      <td>-0.225534</td>\n",
       "      <td>1.000000</td>\n",
       "      <td>-0.240273</td>\n",
       "      <td>-0.194966</td>\n",
       "      <td>-0.201229</td>\n",
       "      <td>0.288681</td>\n",
       "      <td>-0.163723</td>\n",
       "      <td>0.198911</td>\n",
       "      <td>-0.037714</td>\n",
       "      <td>0.135252</td>\n",
       "      <td>0.219860</td>\n",
       "      <td>0.102903</td>\n",
       "    </tr>\n",
       "    <tr>\n",
       "      <th>fuel</th>\n",
       "      <td>-0.063381</td>\n",
       "      <td>-0.205453</td>\n",
       "      <td>-0.240273</td>\n",
       "      <td>1.000000</td>\n",
       "      <td>0.034963</td>\n",
       "      <td>0.011879</td>\n",
       "      <td>-0.002501</td>\n",
       "      <td>0.026334</td>\n",
       "      <td>-0.485761</td>\n",
       "      <td>-0.300979</td>\n",
       "      <td>-0.312858</td>\n",
       "      <td>-0.335884</td>\n",
       "      <td>-0.116394</td>\n",
       "    </tr>\n",
       "    <tr>\n",
       "      <th>seller_type</th>\n",
       "      <td>0.234741</td>\n",
       "      <td>0.323047</td>\n",
       "      <td>-0.194966</td>\n",
       "      <td>0.034963</td>\n",
       "      <td>1.000000</td>\n",
       "      <td>0.355598</td>\n",
       "      <td>-0.208762</td>\n",
       "      <td>-0.029483</td>\n",
       "      <td>0.121836</td>\n",
       "      <td>0.236716</td>\n",
       "      <td>0.008570</td>\n",
       "      <td>-0.071926</td>\n",
       "      <td>-0.019863</td>\n",
       "    </tr>\n",
       "    <tr>\n",
       "      <th>transmission</th>\n",
       "      <td>0.244707</td>\n",
       "      <td>0.588845</td>\n",
       "      <td>-0.201229</td>\n",
       "      <td>0.011879</td>\n",
       "      <td>0.355598</td>\n",
       "      <td>1.000000</td>\n",
       "      <td>-0.150908</td>\n",
       "      <td>-0.178511</td>\n",
       "      <td>0.283986</td>\n",
       "      <td>0.538186</td>\n",
       "      <td>0.124291</td>\n",
       "      <td>-0.069070</td>\n",
       "      <td>-0.052466</td>\n",
       "    </tr>\n",
       "    <tr>\n",
       "      <th>owner</th>\n",
       "      <td>-0.513541</td>\n",
       "      <td>-0.243316</td>\n",
       "      <td>0.288681</td>\n",
       "      <td>-0.002501</td>\n",
       "      <td>-0.208762</td>\n",
       "      <td>-0.150908</td>\n",
       "      <td>1.000000</td>\n",
       "      <td>-0.159909</td>\n",
       "      <td>-0.003687</td>\n",
       "      <td>-0.109619</td>\n",
       "      <td>0.039568</td>\n",
       "      <td>0.019900</td>\n",
       "      <td>0.007527</td>\n",
       "    </tr>\n",
       "    <tr>\n",
       "      <th>mileage</th>\n",
       "      <td>0.297289</td>\n",
       "      <td>-0.129438</td>\n",
       "      <td>-0.163723</td>\n",
       "      <td>0.026334</td>\n",
       "      <td>-0.029483</td>\n",
       "      <td>-0.178511</td>\n",
       "      <td>-0.159909</td>\n",
       "      <td>1.000000</td>\n",
       "      <td>-0.568068</td>\n",
       "      <td>-0.376783</td>\n",
       "      <td>-0.252456</td>\n",
       "      <td>-0.442248</td>\n",
       "      <td>-0.057762</td>\n",
       "    </tr>\n",
       "    <tr>\n",
       "      <th>engine</th>\n",
       "      <td>0.035851</td>\n",
       "      <td>0.458345</td>\n",
       "      <td>0.198911</td>\n",
       "      <td>-0.485761</td>\n",
       "      <td>0.121836</td>\n",
       "      <td>0.283986</td>\n",
       "      <td>-0.003687</td>\n",
       "      <td>-0.568068</td>\n",
       "      <td>1.000000</td>\n",
       "      <td>0.701298</td>\n",
       "      <td>0.434485</td>\n",
       "      <td>0.612220</td>\n",
       "      <td>0.119904</td>\n",
       "    </tr>\n",
       "    <tr>\n",
       "      <th>max_power</th>\n",
       "      <td>0.213282</td>\n",
       "      <td>0.744958</td>\n",
       "      <td>-0.037714</td>\n",
       "      <td>-0.300979</td>\n",
       "      <td>0.236716</td>\n",
       "      <td>0.538186</td>\n",
       "      <td>-0.109619</td>\n",
       "      <td>-0.376783</td>\n",
       "      <td>0.701298</td>\n",
       "      <td>1.000000</td>\n",
       "      <td>0.293041</td>\n",
       "      <td>0.191785</td>\n",
       "      <td>-0.067880</td>\n",
       "    </tr>\n",
       "    <tr>\n",
       "      <th>torque</th>\n",
       "      <td>-0.059899</td>\n",
       "      <td>0.191744</td>\n",
       "      <td>0.135252</td>\n",
       "      <td>-0.312858</td>\n",
       "      <td>0.008570</td>\n",
       "      <td>0.124291</td>\n",
       "      <td>0.039568</td>\n",
       "      <td>-0.252456</td>\n",
       "      <td>0.434485</td>\n",
       "      <td>0.293041</td>\n",
       "      <td>1.000000</td>\n",
       "      <td>0.240092</td>\n",
       "      <td>0.048257</td>\n",
       "    </tr>\n",
       "    <tr>\n",
       "      <th>seats</th>\n",
       "      <td>0.010222</td>\n",
       "      <td>0.047135</td>\n",
       "      <td>0.219860</td>\n",
       "      <td>-0.335884</td>\n",
       "      <td>-0.071926</td>\n",
       "      <td>-0.069070</td>\n",
       "      <td>0.019900</td>\n",
       "      <td>-0.442248</td>\n",
       "      <td>0.612220</td>\n",
       "      <td>0.191785</td>\n",
       "      <td>0.240092</td>\n",
       "      <td>1.000000</td>\n",
       "      <td>0.167374</td>\n",
       "    </tr>\n",
       "    <tr>\n",
       "      <th>marque</th>\n",
       "      <td>-0.031469</td>\n",
       "      <td>-0.090271</td>\n",
       "      <td>0.102903</td>\n",
       "      <td>-0.116394</td>\n",
       "      <td>-0.019863</td>\n",
       "      <td>-0.052466</td>\n",
       "      <td>0.007527</td>\n",
       "      <td>-0.057762</td>\n",
       "      <td>0.119904</td>\n",
       "      <td>-0.067880</td>\n",
       "      <td>0.048257</td>\n",
       "      <td>0.167374</td>\n",
       "      <td>1.000000</td>\n",
       "    </tr>\n",
       "  </tbody>\n",
       "</table>\n",
       "</div>"
      ],
      "text/plain": [
       "                   year  selling_price  km_driven      fuel  seller_type  \\\n",
       "year           1.000000       0.414092  -0.418006 -0.063381     0.234741   \n",
       "selling_price  0.414092       1.000000  -0.225534 -0.205453     0.323047   \n",
       "km_driven     -0.418006      -0.225534   1.000000 -0.240273    -0.194966   \n",
       "fuel          -0.063381      -0.205453  -0.240273  1.000000     0.034963   \n",
       "seller_type    0.234741       0.323047  -0.194966  0.034963     1.000000   \n",
       "transmission   0.244707       0.588845  -0.201229  0.011879     0.355598   \n",
       "owner         -0.513541      -0.243316   0.288681 -0.002501    -0.208762   \n",
       "mileage        0.297289      -0.129438  -0.163723  0.026334    -0.029483   \n",
       "engine         0.035851       0.458345   0.198911 -0.485761     0.121836   \n",
       "max_power      0.213282       0.744958  -0.037714 -0.300979     0.236716   \n",
       "torque        -0.059899       0.191744   0.135252 -0.312858     0.008570   \n",
       "seats          0.010222       0.047135   0.219860 -0.335884    -0.071926   \n",
       "marque        -0.031469      -0.090271   0.102903 -0.116394    -0.019863   \n",
       "\n",
       "               transmission     owner   mileage    engine  max_power  \\\n",
       "year               0.244707 -0.513541  0.297289  0.035851   0.213282   \n",
       "selling_price      0.588845 -0.243316 -0.129438  0.458345   0.744958   \n",
       "km_driven         -0.201229  0.288681 -0.163723  0.198911  -0.037714   \n",
       "fuel               0.011879 -0.002501  0.026334 -0.485761  -0.300979   \n",
       "seller_type        0.355598 -0.208762 -0.029483  0.121836   0.236716   \n",
       "transmission       1.000000 -0.150908 -0.178511  0.283986   0.538186   \n",
       "owner             -0.150908  1.000000 -0.159909 -0.003687  -0.109619   \n",
       "mileage           -0.178511 -0.159909  1.000000 -0.568068  -0.376783   \n",
       "engine             0.283986 -0.003687 -0.568068  1.000000   0.701298   \n",
       "max_power          0.538186 -0.109619 -0.376783  0.701298   1.000000   \n",
       "torque             0.124291  0.039568 -0.252456  0.434485   0.293041   \n",
       "seats             -0.069070  0.019900 -0.442248  0.612220   0.191785   \n",
       "marque            -0.052466  0.007527 -0.057762  0.119904  -0.067880   \n",
       "\n",
       "                 torque     seats    marque  \n",
       "year          -0.059899  0.010222 -0.031469  \n",
       "selling_price  0.191744  0.047135 -0.090271  \n",
       "km_driven      0.135252  0.219860  0.102903  \n",
       "fuel          -0.312858 -0.335884 -0.116394  \n",
       "seller_type    0.008570 -0.071926 -0.019863  \n",
       "transmission   0.124291 -0.069070 -0.052466  \n",
       "owner          0.039568  0.019900  0.007527  \n",
       "mileage       -0.252456 -0.442248 -0.057762  \n",
       "engine         0.434485  0.612220  0.119904  \n",
       "max_power      0.293041  0.191785 -0.067880  \n",
       "torque         1.000000  0.240092  0.048257  \n",
       "seats          0.240092  1.000000  0.167374  \n",
       "marque         0.048257  0.167374  1.000000  "
      ]
     },
     "execution_count": 54,
     "metadata": {},
     "output_type": "execute_result"
    }
   ],
   "source": [
    "df.corr()"
   ]
  },
  {
   "cell_type": "code",
   "execution_count": 55,
   "id": "2cf5491c",
   "metadata": {},
   "outputs": [
    {
     "data": {
      "text/html": [
       "<div>\n",
       "<style scoped>\n",
       "    .dataframe tbody tr th:only-of-type {\n",
       "        vertical-align: middle;\n",
       "    }\n",
       "\n",
       "    .dataframe tbody tr th {\n",
       "        vertical-align: top;\n",
       "    }\n",
       "\n",
       "    .dataframe thead th {\n",
       "        text-align: right;\n",
       "    }\n",
       "</style>\n",
       "<table border=\"1\" class=\"dataframe\">\n",
       "  <thead>\n",
       "    <tr style=\"text-align: right;\">\n",
       "      <th></th>\n",
       "      <th>name</th>\n",
       "      <th>year</th>\n",
       "      <th>selling_price</th>\n",
       "      <th>km_driven</th>\n",
       "      <th>fuel</th>\n",
       "      <th>seller_type</th>\n",
       "      <th>transmission</th>\n",
       "      <th>owner</th>\n",
       "      <th>mileage</th>\n",
       "      <th>engine</th>\n",
       "      <th>max_power</th>\n",
       "      <th>torque</th>\n",
       "      <th>seats</th>\n",
       "      <th>marque</th>\n",
       "    </tr>\n",
       "  </thead>\n",
       "  <tbody>\n",
       "    <tr>\n",
       "      <th>0</th>\n",
       "      <td>Maruti Swift Dzire VDI</td>\n",
       "      <td>2014</td>\n",
       "      <td>450000</td>\n",
       "      <td>145500</td>\n",
       "      <td>0</td>\n",
       "      <td>0</td>\n",
       "      <td>0</td>\n",
       "      <td>1</td>\n",
       "      <td>23.40000</td>\n",
       "      <td>1248.0</td>\n",
       "      <td>74.00</td>\n",
       "      <td>19.374608</td>\n",
       "      <td>5.0</td>\n",
       "      <td>20</td>\n",
       "    </tr>\n",
       "    <tr>\n",
       "      <th>1</th>\n",
       "      <td>Skoda Rapid 1.5 TDI Ambition</td>\n",
       "      <td>2014</td>\n",
       "      <td>370000</td>\n",
       "      <td>120000</td>\n",
       "      <td>0</td>\n",
       "      <td>0</td>\n",
       "      <td>0</td>\n",
       "      <td>2</td>\n",
       "      <td>21.14000</td>\n",
       "      <td>1498.0</td>\n",
       "      <td>103.52</td>\n",
       "      <td>25.492905</td>\n",
       "      <td>5.0</td>\n",
       "      <td>27</td>\n",
       "    </tr>\n",
       "    <tr>\n",
       "      <th>2</th>\n",
       "      <td>Honda City 2017-2020 EXi</td>\n",
       "      <td>2006</td>\n",
       "      <td>158000</td>\n",
       "      <td>140000</td>\n",
       "      <td>1</td>\n",
       "      <td>0</td>\n",
       "      <td>0</td>\n",
       "      <td>3</td>\n",
       "      <td>17.70000</td>\n",
       "      <td>1497.0</td>\n",
       "      <td>78.00</td>\n",
       "      <td>12.700000</td>\n",
       "      <td>5.0</td>\n",
       "      <td>10</td>\n",
       "    </tr>\n",
       "    <tr>\n",
       "      <th>3</th>\n",
       "      <td>Hyundai i20 Sportz Diesel</td>\n",
       "      <td>2010</td>\n",
       "      <td>225000</td>\n",
       "      <td>127000</td>\n",
       "      <td>0</td>\n",
       "      <td>0</td>\n",
       "      <td>0</td>\n",
       "      <td>1</td>\n",
       "      <td>23.00000</td>\n",
       "      <td>1396.0</td>\n",
       "      <td>90.00</td>\n",
       "      <td>22.400000</td>\n",
       "      <td>5.0</td>\n",
       "      <td>11</td>\n",
       "    </tr>\n",
       "    <tr>\n",
       "      <th>4</th>\n",
       "      <td>Maruti Swift VXI BSIII</td>\n",
       "      <td>2007</td>\n",
       "      <td>130000</td>\n",
       "      <td>120000</td>\n",
       "      <td>1</td>\n",
       "      <td>0</td>\n",
       "      <td>0</td>\n",
       "      <td>1</td>\n",
       "      <td>16.10000</td>\n",
       "      <td>1298.0</td>\n",
       "      <td>88.20</td>\n",
       "      <td>11.500000</td>\n",
       "      <td>5.0</td>\n",
       "      <td>20</td>\n",
       "    </tr>\n",
       "    <tr>\n",
       "      <th>5</th>\n",
       "      <td>Hyundai Xcent 1.2 VTVT E Plus</td>\n",
       "      <td>2017</td>\n",
       "      <td>440000</td>\n",
       "      <td>45000</td>\n",
       "      <td>1</td>\n",
       "      <td>0</td>\n",
       "      <td>0</td>\n",
       "      <td>1</td>\n",
       "      <td>20.14000</td>\n",
       "      <td>1197.0</td>\n",
       "      <td>81.86</td>\n",
       "      <td>11.599272</td>\n",
       "      <td>5.0</td>\n",
       "      <td>11</td>\n",
       "    </tr>\n",
       "    <tr>\n",
       "      <th>6</th>\n",
       "      <td>Maruti Wagon R LXI DUO BSIII</td>\n",
       "      <td>2007</td>\n",
       "      <td>96000</td>\n",
       "      <td>175000</td>\n",
       "      <td>3</td>\n",
       "      <td>0</td>\n",
       "      <td>0</td>\n",
       "      <td>1</td>\n",
       "      <td>23.29964</td>\n",
       "      <td>1061.0</td>\n",
       "      <td>57.50</td>\n",
       "      <td>7.800000</td>\n",
       "      <td>5.0</td>\n",
       "      <td>20</td>\n",
       "    </tr>\n",
       "    <tr>\n",
       "      <th>7</th>\n",
       "      <td>Maruti 800 DX BSII</td>\n",
       "      <td>2001</td>\n",
       "      <td>45000</td>\n",
       "      <td>5000</td>\n",
       "      <td>1</td>\n",
       "      <td>0</td>\n",
       "      <td>0</td>\n",
       "      <td>2</td>\n",
       "      <td>16.10000</td>\n",
       "      <td>796.0</td>\n",
       "      <td>37.00</td>\n",
       "      <td>6.016326</td>\n",
       "      <td>4.0</td>\n",
       "      <td>20</td>\n",
       "    </tr>\n",
       "    <tr>\n",
       "      <th>8</th>\n",
       "      <td>Toyota Etios VXD</td>\n",
       "      <td>2011</td>\n",
       "      <td>350000</td>\n",
       "      <td>90000</td>\n",
       "      <td>0</td>\n",
       "      <td>0</td>\n",
       "      <td>0</td>\n",
       "      <td>1</td>\n",
       "      <td>23.59000</td>\n",
       "      <td>1364.0</td>\n",
       "      <td>67.10</td>\n",
       "      <td>17.335176</td>\n",
       "      <td>5.0</td>\n",
       "      <td>29</td>\n",
       "    </tr>\n",
       "    <tr>\n",
       "      <th>9</th>\n",
       "      <td>Ford Figo Diesel Celebration Edition</td>\n",
       "      <td>2013</td>\n",
       "      <td>200000</td>\n",
       "      <td>169000</td>\n",
       "      <td>0</td>\n",
       "      <td>0</td>\n",
       "      <td>0</td>\n",
       "      <td>1</td>\n",
       "      <td>20.00000</td>\n",
       "      <td>1399.0</td>\n",
       "      <td>68.10</td>\n",
       "      <td>16.315459</td>\n",
       "      <td>5.0</td>\n",
       "      <td>9</td>\n",
       "    </tr>\n",
       "  </tbody>\n",
       "</table>\n",
       "</div>"
      ],
      "text/plain": [
       "                                   name  year  selling_price  km_driven  fuel  \\\n",
       "0                Maruti Swift Dzire VDI  2014         450000     145500     0   \n",
       "1          Skoda Rapid 1.5 TDI Ambition  2014         370000     120000     0   \n",
       "2              Honda City 2017-2020 EXi  2006         158000     140000     1   \n",
       "3             Hyundai i20 Sportz Diesel  2010         225000     127000     0   \n",
       "4                Maruti Swift VXI BSIII  2007         130000     120000     1   \n",
       "5         Hyundai Xcent 1.2 VTVT E Plus  2017         440000      45000     1   \n",
       "6          Maruti Wagon R LXI DUO BSIII  2007          96000     175000     3   \n",
       "7                    Maruti 800 DX BSII  2001          45000       5000     1   \n",
       "8                      Toyota Etios VXD  2011         350000      90000     0   \n",
       "9  Ford Figo Diesel Celebration Edition  2013         200000     169000     0   \n",
       "\n",
       "   seller_type  transmission  owner   mileage  engine  max_power     torque  \\\n",
       "0            0             0      1  23.40000  1248.0      74.00  19.374608   \n",
       "1            0             0      2  21.14000  1498.0     103.52  25.492905   \n",
       "2            0             0      3  17.70000  1497.0      78.00  12.700000   \n",
       "3            0             0      1  23.00000  1396.0      90.00  22.400000   \n",
       "4            0             0      1  16.10000  1298.0      88.20  11.500000   \n",
       "5            0             0      1  20.14000  1197.0      81.86  11.599272   \n",
       "6            0             0      1  23.29964  1061.0      57.50   7.800000   \n",
       "7            0             0      2  16.10000   796.0      37.00   6.016326   \n",
       "8            0             0      1  23.59000  1364.0      67.10  17.335176   \n",
       "9            0             0      1  20.00000  1399.0      68.10  16.315459   \n",
       "\n",
       "   seats  marque  \n",
       "0    5.0      20  \n",
       "1    5.0      27  \n",
       "2    5.0      10  \n",
       "3    5.0      11  \n",
       "4    5.0      20  \n",
       "5    5.0      11  \n",
       "6    5.0      20  \n",
       "7    4.0      20  \n",
       "8    5.0      29  \n",
       "9    5.0       9  "
      ]
     },
     "execution_count": 55,
     "metadata": {},
     "output_type": "execute_result"
    }
   ],
   "source": [
    "df.head(10)"
   ]
  },
  {
   "cell_type": "markdown",
   "id": "4f93bee9",
   "metadata": {},
   "source": [
    "# Trying Different Machine Learning Models"
   ]
  },
  {
   "cell_type": "code",
   "execution_count": 56,
   "id": "e7c17b19",
   "metadata": {},
   "outputs": [],
   "source": [
    "from sklearn.model_selection import train_test_split\n",
    "from sklearn.linear_model import LinearRegression\n",
    "from sklearn.tree import DecisionTreeRegressor\n",
    "from sklearn.ensemble import RandomForestRegressor \n",
    "from sklearn.metrics import r2_score, mean_absolute_error, accuracy_score"
   ]
  },
  {
   "cell_type": "code",
   "execution_count": 107,
   "id": "233bb7e7",
   "metadata": {
    "scrolled": true
   },
   "outputs": [
    {
     "name": "stdout",
     "output_type": "stream",
     "text": [
      "X_train shape:(6502, 10)\n",
      "Y_train shape:(6502, 1)\n",
      "X_test shape:(1626, 10)\n",
      "Y_test shape:(1626, 1)\n"
     ]
    }
   ],
   "source": [
    "(Y, X) = (df['selling_price'].values, df.drop(['selling_price', 'name', 'marque', 'seats'], axis = 1))\n",
    "Y = Y.reshape((X.shape[0], 1))\n",
    "\n",
    "(X_train, X_test, Y_train, Y_test) = train_test_split(X, Y, test_size = 0.2)\n",
    "print(\"X_train shape:\" + str(X_train.shape))\n",
    "print(\"Y_train shape:\" + str(Y_train.shape))\n",
    "print(\"X_test shape:\" + str(X_test.shape))\n",
    "print(\"Y_test shape:\" + str(Y_test.shape))"
   ]
  },
  {
   "cell_type": "markdown",
   "id": "b2a4827b",
   "metadata": {},
   "source": [
    "### Linear Regression"
   ]
  },
  {
   "cell_type": "code",
   "execution_count": 108,
   "id": "20543bdc",
   "metadata": {},
   "outputs": [
    {
     "name": "stdout",
     "output_type": "stream",
     "text": [
      "Linear Regression train score:  0.67\n",
      "Linear Regression test score:  0.67\n",
      "Mean absolute error:  275295.1869115048\n",
      "Coefficient of determination:  0.6695425369071236\n"
     ]
    }
   ],
   "source": [
    "lireg = LinearRegression()\n",
    "lireg.fit(X_train, Y_train)\n",
    "\n",
    "# train and test scores\n",
    "lr_train_score = round(lireg.score(X_train, Y_train), 2)\n",
    "lr_test_score = round(lireg.score(X_test, Y_test), 2)\n",
    "# predicted output\n",
    "Y_pred_lr = lireg.predict(X_test)\n",
    "\n",
    "print('Linear Regression train score: ', lr_train_score)\n",
    "print('Linear Regression test score: ', lr_test_score)\n",
    "print('Mean absolute error: ', mean_absolute_error(Y_test, Y_pred_lr))\n",
    "print('Coefficient of determination: ', r2_score(Y_test, Y_pred_lr))"
   ]
  },
  {
   "cell_type": "markdown",
   "id": "6fb8c330",
   "metadata": {},
   "source": [
    "### Decision Tree Regressor"
   ]
  },
  {
   "cell_type": "code",
   "execution_count": 109,
   "id": "aebe0aae",
   "metadata": {},
   "outputs": [
    {
     "name": "stdout",
     "output_type": "stream",
     "text": [
      "Decision Tree Regressor train score:  1.0\n",
      "Decision Tree Regressor test score:  0.94\n",
      "Mean absolute error:  85498.20670463199\n",
      "Coefficient of determination:  0.9440803827723175\n"
     ]
    }
   ],
   "source": [
    "dtreg = DecisionTreeRegressor()\n",
    "dtreg.fit(X_train, Y_train)\n",
    "\n",
    "# train and test scores\n",
    "dt_train_score = round(dtreg.score(X_train, Y_train), 2)\n",
    "dt_test_score = round(dtreg.score(X_test, Y_test), 2)\n",
    "# predicted output\n",
    "Y_pred_dt = dtreg.predict(X_test)\n",
    "\n",
    "\n",
    "print('Decision Tree Regressor train score: ', dt_train_score)\n",
    "print('Decision Tree Regressor test score: ', dt_test_score)\n",
    "print('Mean absolute error: ', mean_absolute_error(Y_test, Y_pred_dt))\n",
    "print('Coefficient of determination: ', r2_score(Y_test, Y_pred_dt))"
   ]
  },
  {
   "cell_type": "code",
   "execution_count": 110,
   "id": "8ae4ea83",
   "metadata": {},
   "outputs": [
    {
     "name": "stderr",
     "output_type": "stream",
     "text": [
      "C:\\Users\\AT\\anaconda3\\envs\\tensorflow\\lib\\site-packages\\sklearn\\utils\\validation.py:985: DataConversionWarning: A column-vector y was passed when a 1d array was expected. Please change the shape of y to (n_samples, ), for example using ravel().\n",
      "  y = column_or_1d(y, warn=True)\n"
     ]
    },
    {
     "name": "stdout",
     "output_type": "stream",
     "text": [
      "Decision Tree Regressor train score:  1.0\n",
      "Decision Tree Regressor test score:  0.97\n",
      "Mean absolute error:  69063.02742318659\n",
      "Coefficient of determination:  0.9666121466403274\n"
     ]
    }
   ],
   "source": [
    "from sklearn.ensemble import AdaBoostRegressor\n",
    "dtreg = AdaBoostRegressor(DecisionTreeRegressor())\n",
    "dtreg.fit(X_train, Y_train)\n",
    "\n",
    "# train and test scores\n",
    "dt_train_score = round(dtreg.score(X_train, Y_train), 2)\n",
    "dt_test_score = round(dtreg.score(X_test, Y_test), 2)\n",
    "# predicted output\n",
    "Y_pred_dt = dtreg.predict(X_test)\n",
    "\n",
    "\n",
    "print('Decision Tree Regressor train score: ', dt_train_score)\n",
    "print('Decision Tree Regressor test score: ', dt_test_score)\n",
    "print('Mean absolute error: ', mean_absolute_error(Y_test, Y_pred_dt))\n",
    "print('Coefficient of determination: ', r2_score(Y_test, Y_pred_dt))"
   ]
  },
  {
   "cell_type": "markdown",
   "id": "5c2941c2",
   "metadata": {},
   "source": [
    "### Random Forests"
   ]
  },
  {
   "cell_type": "code",
   "execution_count": 111,
   "id": "b18f0ef0",
   "metadata": {},
   "outputs": [
    {
     "name": "stderr",
     "output_type": "stream",
     "text": [
      "C:\\Users\\AT\\AppData\\Local\\Temp/ipykernel_8812/3541550211.py:2: DataConversionWarning: A column-vector y was passed when a 1d array was expected. Please change the shape of y to (n_samples,), for example using ravel().\n",
      "  rfreg1.fit(X_train, Y_train)\n"
     ]
    },
    {
     "name": "stdout",
     "output_type": "stream",
     "text": [
      "Decision Tree Regressor train score:  1.0\n",
      "Decision Tree Regressor test score:  0.97\n",
      "Mean absolute error:  70312.32764612837\n",
      "Coefficient of determination:  0.9677505422408061\n"
     ]
    }
   ],
   "source": [
    "rfreg1 = RandomForestRegressor(n_estimators=100)\n",
    "rfreg1.fit(X_train, Y_train)\n",
    "\n",
    "# train and test scores\n",
    "rf_train_score = round(rfreg1.score(X_train, Y_train), 2)\n",
    "rf_test_score = round(rfreg1.score(X_test, Y_test), 2)\n",
    "# predicted output\n",
    "Y_pred_rf = rfreg1.predict(X_test)\n",
    "\n",
    "print('Decision Tree Regressor train score: ', rf_train_score)\n",
    "print('Decision Tree Regressor test score: ', rf_test_score)\n",
    "print('Mean absolute error: ', mean_absolute_error(Y_test, Y_pred_rf))\n",
    "print('Coefficient of determination: ', r2_score(Y_test, Y_pred_rf))"
   ]
  },
  {
   "cell_type": "code",
   "execution_count": 130,
   "id": "fba5d5a2",
   "metadata": {},
   "outputs": [
    {
     "name": "stderr",
     "output_type": "stream",
     "text": [
      "C:\\Users\\AT\\anaconda3\\envs\\tensorflow\\lib\\site-packages\\sklearn\\utils\\validation.py:985: DataConversionWarning: A column-vector y was passed when a 1d array was expected. Please change the shape of y to (n_samples, ), for example using ravel().\n",
      "  y = column_or_1d(y, warn=True)\n"
     ]
    },
    {
     "name": "stdout",
     "output_type": "stream",
     "text": [
      "Decision Tree Regressor train score:  1.0\n",
      "Decision Tree Regressor test score:  0.97\n",
      "Mean absolute error:  72857.59976105543\n",
      "Coefficient of determination:  0.9704663425202725\n"
     ]
    }
   ],
   "source": [
    "from sklearn.ensemble import AdaBoostRegressor\n",
    "dtregb = AdaBoostRegressor(RandomForestRegressor())\n",
    "dtregb.fit(X_train, Y_train)\n",
    "\n",
    "# train and test scores\n",
    "dt_train_score = round(dtreg.score(X_train, Y_train), 2)\n",
    "dt_test_score = round(dtreg.score(X_test, Y_test), 2)\n",
    "# predicted output\n",
    "Y_pred_dt = dtregb.predict(X_test)\n",
    "\n",
    "\n",
    "print('Decision Tree Regressor train score: ', dt_train_score)\n",
    "print('Decision Tree Regressor test score: ', dt_test_score)\n",
    "print('Mean absolute error: ', mean_absolute_error(Y_test, Y_pred_dt))\n",
    "print('Coefficient of determination: ', r2_score(Y_test, Y_pred_dt))"
   ]
  },
  {
   "cell_type": "markdown",
   "id": "0322b5aa",
   "metadata": {},
   "source": [
    "## Prediction"
   ]
  },
  {
   "cell_type": "code",
   "execution_count": 113,
   "id": "3ba57519",
   "metadata": {},
   "outputs": [],
   "source": [
    "# X = ['year', 'km_driven', 'fuel', 'seller_type', 'transmission', 'owner', 'mileage',  'engine', 'max_power', 'torque']\n",
    "# max_power en kmgp\n",
    "# torque en kmpl\n",
    "\n",
    "def preprocess_entry(X):\n",
    "    # fuel\n",
    "    if X[2] == 'Diesel':\n",
    "        X[2] = 0\n",
    "    elif X[2] == 'Petrol':\n",
    "        X[2] = 1\n",
    "    elif X[2] == 'CNG':\n",
    "        X[2] = 2\n",
    "    else:\n",
    "        X[2] = 3\n",
    "        \n",
    "    # seller_type\n",
    "    if X[3] == 'Individual':\n",
    "        X[3] = 0\n",
    "    elif X[3] == 'Dealer':\n",
    "        X[3] = 1\n",
    "    else:\n",
    "        X[3] = 2\n",
    "        \n",
    "    # transmission\n",
    "    if X[4] == 'Manual':\n",
    "        X[4] = 0\n",
    "    else:\n",
    "        X[4] = 1 \n",
    "    \n",
    "\n",
    "    # owner\n",
    "    if X[5] == 'Test Drive Car':\n",
    "        X[5] = 0\n",
    "    elif X[5] == 'First Owner':\n",
    "        X[5] = 1 \n",
    "    elif X[5] == 'Second Owner':\n",
    "        X[5] = 2\n",
    "    elif X[5] == 'Third Owner':\n",
    "        X[5] = 3\n",
    "    else:\n",
    "        X[5] = 4 \n",
    "        \n",
    "    return X"
   ]
  },
  {
   "cell_type": "code",
   "execution_count": 114,
   "id": "060d071a",
   "metadata": {},
   "outputs": [],
   "source": [
    "X = [2012, 100000, 'Diesel', 'Dealer', 'Manual', 'Third Owner', 1995, 74, 40, 145]"
   ]
  },
  {
   "cell_type": "code",
   "execution_count": 131,
   "id": "9e84d50e",
   "metadata": {},
   "outputs": [
    {
     "name": "stderr",
     "output_type": "stream",
     "text": [
      "C:\\Users\\AT\\anaconda3\\envs\\tensorflow\\lib\\site-packages\\pandas\\core\\series.py:1056: SettingWithCopyWarning: \n",
      "A value is trying to be set on a copy of a slice from a DataFrame\n",
      "\n",
      "See the caveats in the documentation: https://pandas.pydata.org/pandas-docs/stable/user_guide/indexing.html#returning-a-view-versus-a-copy\n",
      "  cacher_needs_updating = self._check_is_chained_assignment_possible()\n",
      "C:\\Users\\AT\\anaconda3\\envs\\tensorflow\\lib\\site-packages\\sklearn\\base.py:445: UserWarning: X does not have valid feature names, but AdaBoostRegressor was fitted with feature names\n",
      "  warnings.warn(\n"
     ]
    },
    {
     "data": {
      "text/plain": [
       "array([463406.65666667])"
      ]
     },
     "execution_count": 131,
     "metadata": {},
     "output_type": "execute_result"
    }
   ],
   "source": [
    "Y = dtregb.predict(np.array(preprocess_entry(X)).reshape(1, -1))\n",
    "Y"
   ]
  },
  {
   "cell_type": "code",
   "execution_count": 116,
   "id": "1ba64d8e",
   "metadata": {},
   "outputs": [
    {
     "data": {
      "text/plain": [
       "array([[ 300000],\n",
       "       [ 620000],\n",
       "       [ 225000],\n",
       "       ...,\n",
       "       [2100000],\n",
       "       [  50000],\n",
       "       [ 550000]], dtype=int64)"
      ]
     },
     "execution_count": 116,
     "metadata": {},
     "output_type": "execute_result"
    }
   ],
   "source": [
    "Y_train"
   ]
  },
  {
   "cell_type": "code",
   "execution_count": 117,
   "id": "0108117d",
   "metadata": {},
   "outputs": [],
   "source": [
    "import joblib"
   ]
  },
  {
   "cell_type": "code",
   "execution_count": 132,
   "id": "a3d27611",
   "metadata": {},
   "outputs": [
    {
     "data": {
      "text/plain": [
       "['model_jlib.pkl']"
      ]
     },
     "execution_count": 132,
     "metadata": {},
     "output_type": "execute_result"
    }
   ],
   "source": [
    "joblib.dump(dtregb , 'model_jlib.pkl')"
   ]
  },
  {
   "cell_type": "code",
   "execution_count": 133,
   "id": "b210b6a1",
   "metadata": {},
   "outputs": [],
   "source": [
    "model = joblib.load('model_jlib.pkl')"
   ]
  },
  {
   "cell_type": "code",
   "execution_count": 134,
   "id": "13c746a8",
   "metadata": {},
   "outputs": [
    {
     "name": "stderr",
     "output_type": "stream",
     "text": [
      "C:\\Users\\AT\\anaconda3\\envs\\tensorflow\\lib\\site-packages\\pandas\\core\\series.py:1056: SettingWithCopyWarning: \n",
      "A value is trying to be set on a copy of a slice from a DataFrame\n",
      "\n",
      "See the caveats in the documentation: https://pandas.pydata.org/pandas-docs/stable/user_guide/indexing.html#returning-a-view-versus-a-copy\n",
      "  cacher_needs_updating = self._check_is_chained_assignment_possible()\n",
      "C:\\Users\\AT\\anaconda3\\envs\\tensorflow\\lib\\site-packages\\sklearn\\base.py:445: UserWarning: X does not have valid feature names, but AdaBoostRegressor was fitted with feature names\n",
      "  warnings.warn(\n"
     ]
    },
    {
     "data": {
      "text/plain": [
       "array([463406.65666667])"
      ]
     },
     "execution_count": 134,
     "metadata": {},
     "output_type": "execute_result"
    }
   ],
   "source": [
    "model.predict(np.array(preprocess_entry(X)).reshape(1, -1))"
   ]
  },
  {
   "cell_type": "code",
   "execution_count": 135,
   "id": "e2140116",
   "metadata": {},
   "outputs": [
    {
     "data": {
      "text/html": [
       "<div>\n",
       "<style scoped>\n",
       "    .dataframe tbody tr th:only-of-type {\n",
       "        vertical-align: middle;\n",
       "    }\n",
       "\n",
       "    .dataframe tbody tr th {\n",
       "        vertical-align: top;\n",
       "    }\n",
       "\n",
       "    .dataframe thead th {\n",
       "        text-align: right;\n",
       "    }\n",
       "</style>\n",
       "<table border=\"1\" class=\"dataframe\">\n",
       "  <thead>\n",
       "    <tr style=\"text-align: right;\">\n",
       "      <th></th>\n",
       "      <th>year</th>\n",
       "      <th>km_driven</th>\n",
       "      <th>fuel</th>\n",
       "      <th>seller_type</th>\n",
       "      <th>transmission</th>\n",
       "      <th>owner</th>\n",
       "      <th>mileage</th>\n",
       "      <th>engine</th>\n",
       "      <th>max_power</th>\n",
       "      <th>torque</th>\n",
       "    </tr>\n",
       "  </thead>\n",
       "  <tbody>\n",
       "    <tr>\n",
       "      <th>2579</th>\n",
       "      <td>2011</td>\n",
       "      <td>300000</td>\n",
       "      <td>3</td>\n",
       "      <td>0</td>\n",
       "      <td>0</td>\n",
       "      <td>1</td>\n",
       "      <td>35.28616</td>\n",
       "      <td>998.0</td>\n",
       "      <td>58.20</td>\n",
       "      <td>7.851815</td>\n",
       "    </tr>\n",
       "    <tr>\n",
       "      <th>5127</th>\n",
       "      <td>2017</td>\n",
       "      <td>61000</td>\n",
       "      <td>0</td>\n",
       "      <td>0</td>\n",
       "      <td>0</td>\n",
       "      <td>1</td>\n",
       "      <td>26.59000</td>\n",
       "      <td>1248.0</td>\n",
       "      <td>74.00</td>\n",
       "      <td>19.374608</td>\n",
       "    </tr>\n",
       "    <tr>\n",
       "      <th>6276</th>\n",
       "      <td>2014</td>\n",
       "      <td>35000</td>\n",
       "      <td>1</td>\n",
       "      <td>0</td>\n",
       "      <td>0</td>\n",
       "      <td>1</td>\n",
       "      <td>21.10000</td>\n",
       "      <td>814.0</td>\n",
       "      <td>55.20</td>\n",
       "      <td>7.596886</td>\n",
       "    </tr>\n",
       "    <tr>\n",
       "      <th>4268</th>\n",
       "      <td>2017</td>\n",
       "      <td>56290</td>\n",
       "      <td>0</td>\n",
       "      <td>1</td>\n",
       "      <td>0</td>\n",
       "      <td>1</td>\n",
       "      <td>24.00000</td>\n",
       "      <td>1186.0</td>\n",
       "      <td>73.97</td>\n",
       "      <td>19.399081</td>\n",
       "    </tr>\n",
       "    <tr>\n",
       "      <th>1203</th>\n",
       "      <td>2014</td>\n",
       "      <td>120000</td>\n",
       "      <td>0</td>\n",
       "      <td>0</td>\n",
       "      <td>0</td>\n",
       "      <td>1</td>\n",
       "      <td>15.96000</td>\n",
       "      <td>2523.0</td>\n",
       "      <td>62.10</td>\n",
       "      <td>19.884466</td>\n",
       "    </tr>\n",
       "    <tr>\n",
       "      <th>...</th>\n",
       "      <td>...</td>\n",
       "      <td>...</td>\n",
       "      <td>...</td>\n",
       "      <td>...</td>\n",
       "      <td>...</td>\n",
       "      <td>...</td>\n",
       "      <td>...</td>\n",
       "      <td>...</td>\n",
       "      <td>...</td>\n",
       "      <td>...</td>\n",
       "    </tr>\n",
       "    <tr>\n",
       "      <th>1669</th>\n",
       "      <td>2016</td>\n",
       "      <td>50000</td>\n",
       "      <td>0</td>\n",
       "      <td>0</td>\n",
       "      <td>1</td>\n",
       "      <td>2</td>\n",
       "      <td>26.59000</td>\n",
       "      <td>1248.0</td>\n",
       "      <td>74.00</td>\n",
       "      <td>19.374608</td>\n",
       "    </tr>\n",
       "    <tr>\n",
       "      <th>3206</th>\n",
       "      <td>2019</td>\n",
       "      <td>5000</td>\n",
       "      <td>1</td>\n",
       "      <td>0</td>\n",
       "      <td>0</td>\n",
       "      <td>1</td>\n",
       "      <td>18.60000</td>\n",
       "      <td>1197.0</td>\n",
       "      <td>81.86</td>\n",
       "      <td>11.930680</td>\n",
       "    </tr>\n",
       "    <tr>\n",
       "      <th>4030</th>\n",
       "      <td>2016</td>\n",
       "      <td>40000</td>\n",
       "      <td>1</td>\n",
       "      <td>0</td>\n",
       "      <td>1</td>\n",
       "      <td>1</td>\n",
       "      <td>10.75000</td>\n",
       "      <td>2694.0</td>\n",
       "      <td>163.70</td>\n",
       "      <td>24.983047</td>\n",
       "    </tr>\n",
       "    <tr>\n",
       "      <th>5681</th>\n",
       "      <td>2000</td>\n",
       "      <td>180000</td>\n",
       "      <td>1</td>\n",
       "      <td>0</td>\n",
       "      <td>0</td>\n",
       "      <td>4</td>\n",
       "      <td>17.30000</td>\n",
       "      <td>993.0</td>\n",
       "      <td>60.00</td>\n",
       "      <td>7.953786</td>\n",
       "    </tr>\n",
       "    <tr>\n",
       "      <th>730</th>\n",
       "      <td>2017</td>\n",
       "      <td>70000</td>\n",
       "      <td>0</td>\n",
       "      <td>0</td>\n",
       "      <td>0</td>\n",
       "      <td>2</td>\n",
       "      <td>24.40000</td>\n",
       "      <td>1120.0</td>\n",
       "      <td>71.00</td>\n",
       "      <td>18.395680</td>\n",
       "    </tr>\n",
       "  </tbody>\n",
       "</table>\n",
       "<p>6502 rows × 10 columns</p>\n",
       "</div>"
      ],
      "text/plain": [
       "      year  km_driven  fuel  seller_type  transmission  owner   mileage  \\\n",
       "2579  2011     300000     3            0             0      1  35.28616   \n",
       "5127  2017      61000     0            0             0      1  26.59000   \n",
       "6276  2014      35000     1            0             0      1  21.10000   \n",
       "4268  2017      56290     0            1             0      1  24.00000   \n",
       "1203  2014     120000     0            0             0      1  15.96000   \n",
       "...    ...        ...   ...          ...           ...    ...       ...   \n",
       "1669  2016      50000     0            0             1      2  26.59000   \n",
       "3206  2019       5000     1            0             0      1  18.60000   \n",
       "4030  2016      40000     1            0             1      1  10.75000   \n",
       "5681  2000     180000     1            0             0      4  17.30000   \n",
       "730   2017      70000     0            0             0      2  24.40000   \n",
       "\n",
       "      engine  max_power     torque  \n",
       "2579   998.0      58.20   7.851815  \n",
       "5127  1248.0      74.00  19.374608  \n",
       "6276   814.0      55.20   7.596886  \n",
       "4268  1186.0      73.97  19.399081  \n",
       "1203  2523.0      62.10  19.884466  \n",
       "...      ...        ...        ...  \n",
       "1669  1248.0      74.00  19.374608  \n",
       "3206  1197.0      81.86  11.930680  \n",
       "4030  2694.0     163.70  24.983047  \n",
       "5681   993.0      60.00   7.953786  \n",
       "730   1120.0      71.00  18.395680  \n",
       "\n",
       "[6502 rows x 10 columns]"
      ]
     },
     "execution_count": 135,
     "metadata": {},
     "output_type": "execute_result"
    }
   ],
   "source": [
    "X_train"
   ]
  }
 ],
 "metadata": {
  "kernelspec": {
   "display_name": "Python 3 (ipykernel)",
   "language": "python",
   "name": "python3"
  },
  "language_info": {
   "codemirror_mode": {
    "name": "ipython",
    "version": 3
   },
   "file_extension": ".py",
   "mimetype": "text/x-python",
   "name": "python",
   "nbconvert_exporter": "python",
   "pygments_lexer": "ipython3",
   "version": "3.8.12"
  }
 },
 "nbformat": 4,
 "nbformat_minor": 5
}
